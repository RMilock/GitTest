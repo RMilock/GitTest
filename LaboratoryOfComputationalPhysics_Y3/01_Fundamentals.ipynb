{
 "cells": [
  {
   "cell_type": "markdown",
   "metadata": {},
   "source": [
    "# Modules/packages/libraries\n",
    "\n",
    "Definitions:\n",
    "\n",
    "  * Modules:\n",
    "  A module is a file which contains python functions, global variables etc. It is nothing but .py file which has python executable code / statement.\n",
    "\n",
    "  * Packages:\n",
    "  A package is namespace which contains multiple modules. It is a directory which contains a special file `__init__.py`(says that there's a package and there would be modules inside it)\n",
    "  \n",
    "  * Libraries:\n",
    "  A library is a collection of various packages and modules. There is no difference between package and python library conceptually.\n",
    "  \n",
    "Modules/packages/libraries can be easily \"imported\" and made functional in your python code. A set of libriaries comes with every python installation. Others can be installed locally and then imported. Your own code sitting somewhere else in your local computer can be imported too.\n",
    "\n",
    "Further details (very important!) on packages and how to create them can be found online. We may find the need of creating our own during the course.\n",
    "\n",
    "Comment: a script = module but w/ output->run directly; module= only func def->only imported"
   ]
  },
  {
   "cell_type": "code",
   "execution_count": 1,
   "metadata": {},
   "outputs": [
    {
     "name": "stdout",
     "output_type": "stream",
     "text": [
      "3.141592653589793\n",
      "3.141592653589793\n",
      "3.141592653589793\n",
      "2.6457513110645907\n"
     ]
    }
   ],
   "source": [
    "###### all the \"stuff\" that is in the math library can be used\n",
    "import math\n",
    "print(math.pi)\n",
    "\n",
    "# you can give math a label for convenience\n",
    "import math as m\n",
    "print (m.pi)\n",
    "\n",
    "# THIS: alternatively you can import only a given \"thing\" from the library\n",
    "from math import pi    #you can add several libraries at once, just list them separated by a \", \"\n",
    "print (pi)\n",
    "\n",
    "# or just import everything (clashes code-variable + math-variables very dangerous!!!)\n",
    "from math import *\n",
    "print (sqrt(7))"
   ]
  },
  {
   "cell_type": "markdown",
   "metadata": {},
   "source": [
    "To know which modules are there for you to use just type:"
   ]
  },
  {
   "cell_type": "code",
   "execution_count": 2,
   "metadata": {},
   "outputs": [
    {
     "name": "stdout",
     "output_type": "stream",
     "text": [
      "\n",
      "Please wait a moment while I gather a list of all available modules...\n",
      "\n"
     ]
    },
    {
     "name": "stderr",
     "output_type": "stream",
     "text": [
      "/home/hal20/anaconda3/lib/python3.8/site-packages/IPython/kernel/__init__.py:12: ShimWarning: The `IPython.kernel` package has been deprecated since IPython 4.0.You should import from ipykernel or jupyter_client instead.\n",
      "  warn(\"The `IPython.kernel` package has been deprecated since IPython 4.0.\"\n",
      "/home/hal20/anaconda3/lib/python3.8/site-packages/nltk/twitter/__init__.py:21: UserWarning: The twython library has not been installed. Some functionality from the twitter package will not be available.\n",
      "  warnings.warn(\n",
      "/home/hal20/anaconda3/lib/python3.8/site-packages/setuptools/distutils_patch.py:25: UserWarning: Distutils was imported before Setuptools. This usage is discouraged and may exhibit undesirable behaviors or errors. Please use Setuptools' objects directly or at least import Setuptools first.\n",
      "  warnings.warn(\n",
      "/home/hal20/anaconda3/lib/python3.8/site-packages/skimage/viewer/utils/__init__.py:1: UserWarning: Recommended matplotlib backend is `Agg` for full skimage.viewer functionality.\n",
      "  from .core import *\n"
     ]
    },
    {
     "name": "stdout",
     "output_type": "stream",
     "text": [
      "Update LANGUAGE_CODES (inside config/base.py) if a new translation has been added to Spyder\n"
     ]
    },
    {
     "name": "stderr",
     "output_type": "stream",
     "text": [
      "/home/hal20/anaconda3/lib/python3.8/site-packages/qtawesome/iconic_font.py:312: UserWarning: You need to have a running QApplication to use QtAwesome!\n",
      "  warnings.warn(\"You need to have a running \"\n",
      "/home/hal20/anaconda3/lib/python3.8/pkgutil.py:107: VisibleDeprecationWarning: zmq.eventloop.minitornado is deprecated in pyzmq 14.0 and will be removed.\n",
      "    Install tornado itself to use zmq with the tornado IOLoop.\n",
      "    \n",
      "  yield from walk_packages(path, info.name+'.', onerror)\n"
     ]
    },
    {
     "name": "stdout",
     "output_type": "stream",
     "text": [
      "Cython              brain_mechanize     itsdangerous        resource\n",
      "IPython             brain_multiprocessing jdcal               rlcompleter\n",
      "OpenSSL             brain_namedtuple_enum jedi                rmagic\n",
      "PIL                 brain_nose          jeepney             rope\n",
      "PyQt5               brain_numpy_core_fromnumeric jinja2              rtree\n",
      "__future__          brain_numpy_core_function_base joblib              ruamel_yaml\n",
      "_abc                brain_numpy_core_multiarray json                runpy\n",
      "_ast                brain_numpy_core_numeric json5               sched\n",
      "_asyncio            brain_numpy_core_numerictypes jsonschema          scipy\n",
      "_bisect             brain_numpy_core_umath jupyter             scripts\n",
      "_blake2             brain_numpy_ndarray jupyter_client      seaborn\n",
      "_bootlocale         brain_numpy_random_mtrand jupyter_console     secrets\n",
      "_bz2                brain_numpy_utils   jupyter_core        secretstorage\n",
      "_cffi_backend       brain_pkg_resources jupyterlab          select\n",
      "_codecs             brain_pytest        jupyterlab_server   selectors\n",
      "_codecs_cn          brain_qt            keyring             send2trash\n",
      "_codecs_hk          brain_random        keyword             setuptools\n",
      "_codecs_iso2022     brain_re            kiwisolver          shelve\n",
      "_codecs_jp          brain_responses     lazy_object_proxy   shlex\n",
      "_codecs_kr          brain_scipy_signal  lib2to3             shutil\n",
      "_codecs_tw          brain_six           libarchive          signal\n",
      "_collections        brain_ssl           libfuturize         simplegeneric\n",
      "_collections_abc    brain_subprocess    libpasteurize       singledispatch\n",
      "_compat_pickle      brain_threading     lief                singledispatch_helpers\n",
      "_compression        brain_typing        linecache           sip\n",
      "_contextvars        brain_uuid          llvmlite            sipconfig\n",
      "_crypt              brotli              locale              sipdistutils\n",
      "_csv                bs4                 locket              site\n",
      "_ctypes             builtins            logging             six\n",
      "_ctypes_test        bz2                 lxml                skimage\n",
      "_curses             cProfile            lzma                sklearn\n",
      "_curses_panel       calendar            mailbox             smtpd\n",
      "_datetime           certifi             mailcap             smtplib\n",
      "_decimal            cffi                markupsafe          sndhdr\n",
      "_dummy_thread       cgi                 marshal             snowballstemmer\n",
      "_elementtree        cgitb               math                socket\n",
      "_functools          chardet             matplotlib          socketserver\n",
      "_hashlib            chunk               mccabe              socks\n",
      "_heapq              click               mimetypes           sockshandler\n",
      "_imp                cloudpickle         mistune             sortedcollections\n",
      "_io                 clyent              mkl                 sortedcontainers\n",
      "_json               cmath               mkl_fft             soupsieve\n",
      "_locale             cmd                 mkl_random          sphinx\n",
      "_lsprof             code                mmap                sphinxcontrib\n",
      "_lzma               codecs              mock                spwd\n",
      "_markupbase         codeop              modulefinder        spyder\n",
      "_md5                collections         more_itertools      spyder_kernels\n",
      "_multibytecodec     colorama            mpmath              sqlalchemy\n",
      "_multiprocessing    colorsys            msgpack             sqlite3\n",
      "_opcode             compileall          multipledispatch    sre_compile\n",
      "_operator           concurrent          multiprocessing     sre_constants\n",
      "_osx_support        conda               navigator_updater   sre_parse\n",
      "_pickle             conda_build         nbconvert           ssl\n",
      "_posixshmem         conda_env           nbformat            stat\n",
      "_posixsubprocess    conda_package_handling netrc               statistics\n",
      "_py_abc             conda_verify        networkx            statsmodels\n",
      "_pydecimal          configparser        nis                 storemagic\n",
      "_pyio               contextlib          nltk                string\n",
      "_pyrsistent_version contextlib2         nntplib             stringprep\n",
      "_pytest             contextvars         nose                struct\n",
      "_queue              copy                notebook            subprocess\n",
      "_random             copyreg             ntpath              sunau\n",
      "_sha1               crypt               nturl2path          symbol\n",
      "_sha256             cryptography        numba               sympy\n",
      "_sha3               csv                 numbers             sympyprinting\n",
      "_sha512             ctypes              numexpr             symtable\n",
      "_signal             curl                numpy               sys\n",
      "_sitebuiltins       curses              numpydoc            sysconfig\n",
      "_socket             cycler              olefile             syslog\n",
      "_sqlite3            cython              opcode              tables\n",
      "_sre                cythonmagic         openpyxl            tabnanny\n",
      "_ssl                cytoolz             operator            tarfile\n",
      "_stat               dask                optparse            tblib\n",
      "_statistics         dataclasses         os                  telnetlib\n",
      "_string             datetime            ossaudiodev         tempfile\n",
      "_strptime           dateutil            packaging           terminado\n",
      "_struct             dbm                 pandas              termios\n",
      "_symtable           decimal             pandocfilters       test\n",
      "_sysconfigdata__linux_x86_64-linux-gnu decorator           parser              test_data\n",
      "_sysconfigdata_aarch64_conda_cos7_linux_gnu defusedxml          parso               test_pycosat\n",
      "_sysconfigdata_i686_conda_cos6_linux_gnu diff_match_patch    partd               testpath\n",
      "_sysconfigdata_powerpc64le_conda_cos7_linux_gnu difflib             past                tests\n",
      "_sysconfigdata_x86_64_apple_darwin13_4_0 dis                 path                textwrap\n",
      "_sysconfigdata_x86_64_conda_cos6_linux_gnu distributed         pathlib             this\n",
      "_testbuffer         distutils           pathlib2            threading\n",
      "_testcapi           doctest             pathtools           threadpoolctl\n",
      "_testimportmultiple docutils            patsy               time\n",
      "_testinternalcapi   dummy_threading     pdb                 timeit\n",
      "_testmultiphase     easy_install        pep8                tkinter\n",
      "_thread             email               pexpect             tlz\n",
      "_threading_local    encodings           pickle              token\n",
      "_tkinter            ensurepip           pickleshare         tokenize\n",
      "_tracemalloc        entrypoints         pickletools         toml\n",
      "_warnings           enum                pip                 toolz\n",
      "_weakref            errno               pipes               tornado\n",
      "_weakrefset         et_xmlfile          pkg_resources       tqdm\n",
      "_xxsubinterpreters  fastcache           pkginfo             trace\n",
      "_xxtestfuzz         faulthandler        pkgutil             traceback\n",
      "_yaml               fcntl               platform            tracemalloc\n",
      "abc                 filecmp             plistlib            traitlets\n",
      "aifc                fileinput           pluggy              tty\n",
      "alabaster           filelock            ply                 turtle\n",
      "anaconda_navigator  flake8              poplib              turtledemo\n",
      "anaconda_project    flask               posix               types\n",
      "antigravity         fnmatch             posixpath           typing\n",
      "argh                formatter           pprint              typing_extensions\n",
      "argparse            fractions           profile             ujson\n",
      "array               fsspec              prometheus_client   unicodecsv\n",
      "asn1crypto          ftplib              prompt_toolkit      unicodedata\n",
      "ast                 functools           pstats              unittest\n",
      "astroid             future              psutil              urllib\n",
      "astropy             gc                  pty                 urllib3\n",
      "asynchat            genericpath         ptyprocess          uu\n",
      "asyncio             getopt              pvectorc            uuid\n",
      "asyncore            getpass             pwd                 venv\n",
      "atexit              gettext             py                  warnings\n",
      "atomicwrites        gevent              py_compile          watchdog\n",
      "attr                glob                pyclbr              wave\n",
      "audioop             glob2               pycodestyle         wcwidth\n",
      "autopep8            gmpy2               pycosat             weakref\n",
      "autoreload          greenlet            pycparser           webbrowser\n",
      "babel               grp                 pycurl              webencodings\n",
      "backcall            gzip                pydoc               werkzeug\n",
      "backports           h5py                pydoc_data          wheel\n",
      "base64              hashlib             pydocstyle          widgetsnbextension\n",
      "bdb                 heapdict            pyexpat             wrapt\n",
      "binascii            heapq               pyflakes            wsgiref\n",
      "binhex              hmac                pygments            wurlitzer\n",
      "binstar_client      html                pylab               xdg\n",
      "bisect              html5lib            pylint              xdrlib\n",
      "bitarray            http                pyls                xlrd\n",
      "bkcharts            idlelib             pyls_jsonrpc        xlsxwriter\n",
      "bleach              idna                pyodbc              xlwt\n",
      "bokeh               imageio             pyparsing           xml\n",
      "boto                imagesize           pyrsistent          xmlrpc\n",
      "bottleneck          imaplib             pytest              xmltodict\n",
      "brain_argparse      imghdr              pytz                xxlimited\n",
      "brain_attrs         imp                 pywt                xxsubtype\n",
      "brain_boto3         importlib           pyximport           yaml\n",
      "brain_builtin_inference importlib_metadata  qdarkstyle          yapf\n",
      "brain_collections   inspect             qtawesome           yapftests\n",
      "brain_crypt         intervaltree        qtconsole           zict\n",
      "brain_curses        io                  qtpy                zipapp\n",
      "brain_dataclasses   ipaddress           queue               zipfile\n",
      "brain_dateutil      ipykernel           quopri              zipimport\n",
      "brain_fstrings      ipykernel_launcher  random              zipp\n",
      "brain_functools     ipython_genutils    re                  zlib\n",
      "brain_gi            ipywidgets          readline            zmq\n",
      "brain_hashlib       isort               regex               zope\n",
      "brain_http          isympy              reprlib             \n",
      "brain_io            itertools           requests            \n",
      "\n",
      "Enter any module name to get more help.  Or, type \"modules spam\" to search\n",
      "for modules whose name or summary contain the string \"spam\".\n",
      "\n",
      "None\n"
     ]
    }
   ],
   "source": [
    "print (help('modules') ) #some issues\n"
   ]
  },
  {
   "cell_type": "markdown",
   "metadata": {},
   "source": [
    "`pip` is a special package. It is used from the command line to install properly (e.g. matching the version of the local packages) new packages. It can also be used from within python to check i.e. the set installed packages and their versions. N.B.: only the installed packages on top of the default ones will be listed "
   ]
  },
  {
   "cell_type": "code",
   "execution_count": 8,
   "metadata": {},
   "outputs": [
    {
     "name": "stdout",
     "output_type": "stream",
     "text": [
      "Python 3.8.3\n",
      "pip 20.2.3 from /home/hal20/anaconda3/lib/python3.8/site-packages/pip (python 3.8)\n"
     ]
    }
   ],
   "source": [
    "import pip; import sys\n",
    "!{sys.executable} --version\n",
    "!pip --version"
   ]
  },
  {
   "cell_type": "markdown",
   "metadata": {},
   "source": [
    "# Functions"
   ]
  },
  {
   "cell_type": "code",
   "execution_count": 8,
   "metadata": {},
   "outputs": [
    {
     "name": "stdout",
     "output_type": "stream",
     "text": [
      "9\n",
      "27\n",
      "cube 27\n",
      "square 9\n"
     ]
    }
   ],
   "source": [
    "def square(x):\n",
    "    \"\"\"Square of x.\"\"\"\n",
    "    return x*x\n",
    "\n",
    "def cube(x):\n",
    "    \"\"\"Cube of x.\"\"\"\n",
    "    return x*x*x\n",
    "\n",
    "# create a dictionary of functions\n",
    "funcs = {\n",
    "    'square': square,\n",
    "    'cube': cube,\n",
    "}\n",
    "\n",
    "x = 3\n",
    "print(square(x))\n",
    "print(cube(x))\n",
    "\n",
    "for func in sorted(funcs):\n",
    "    print (func, funcs[func](x))"
   ]
  },
  {
   "cell_type": "markdown",
   "metadata": {},
   "source": [
    "## Functions arguments"
   ]
  },
  {
   "cell_type": "markdown",
   "metadata": {},
   "source": [
    "What is passsed to a function is a copy of the input. Imagine we have a list *x =[1, 2, 3]*, i.e. a mutable object. If within the function the content of *x* is directly changed (e.g. *x[0] = 999*), then *x* changes outside the funciton as well. "
   ]
  },
  {
   "cell_type": "code",
   "execution_count": 7,
   "metadata": {},
   "outputs": [
    {
     "name": "stdout",
     "output_type": "stream",
     "text": [
      "[1, 2, 3]\n",
      "140410939084416\n",
      "[999, 2, 3]\n",
      "[999, 2, 3]\n",
      "140410939084416\n"
     ]
    }
   ],
   "source": [
    "def modify(x): #pass a copy of that object. List mut->mod it\n",
    "    x[0] = 999 #\"=\" is making a copy\n",
    "    return x\n",
    "\n",
    "x = [1,2,3]\n",
    "print(x); #print(id(x))\n",
    "print(modify(x)) #mod 1st element\n",
    "print(x); #print(id(x))"
   ]
  },
  {
   "cell_type": "markdown",
   "metadata": {},
   "source": [
    "However, if *x* is reassigned within the function to a new object (e.g. another list), then the copy of the name *x* now points to the new object, but *x* outside the function is unchanged."
   ]
  },
  {
   "cell_type": "code",
   "execution_count": 51,
   "metadata": {},
   "outputs": [
    {
     "name": "stdout",
     "output_type": "stream",
     "text": [
      "x:  [1, 2, 3] y:  [1, 2, 3]\n",
      "The values w/in the func are [4, 5, 6] but x is really [1, 2, 3]\n",
      "Then use global on y [4, 5, 6] but y is really [4, 5, 6]\n"
     ]
    }
   ],
   "source": [
    "def no_modify(x):\n",
    "    x = [4,5,6] #new object #append change the object\n",
    "    return x\n",
    "def modify():\n",
    "    global y; y = [4,5,6]; return y\n",
    "\n",
    "x = [1,2,3]\n",
    "y = [1,2,3]\n",
    "print(\"x: \",x,\"y: \",y); #print(id(x))\n",
    "print(\"The values w/in the func are\", no_modify(x), \"but x is really\", x)\n",
    "print(\"Then use global on y\", modify(), \"but y is really\",y) #print(id(x))\n",
    "#if we want to change the variable we've to use global"
   ]
  },
  {
   "cell_type": "markdown",
   "metadata": {},
   "source": [
    "What if the function tries to modify the value of an immutable object?"
   ]
  },
  {
   "cell_type": "markdown",
   "metadata": {},
   "source": [
    "Binding of default arguments occurs at function definition:"
   ]
  },
  {
   "cell_type": "code",
   "execution_count": 21,
   "metadata": {},
   "outputs": [
    {
     "name": "stdout",
     "output_type": "stream",
     "text": [
      "[1]\n",
      "[1, 1]\n",
      "[9, 9, 9, 1]\n",
      "[1, 1, 1]\n",
      "[1, 1, 1, 1]\n"
     ]
    }
   ],
   "source": [
    "def f(x = []):\n",
    "    x.append(1)\n",
    "    return x\n",
    "\n",
    "print(f())\n",
    "print(f());\n",
    "print(f(x = [9,9,9]))\n",
    "print(f()); \n",
    "print(f()); "
   ]
  },
  {
   "cell_type": "markdown",
   "metadata": {},
   "source": [
    "Try to avoid that!!"
   ]
  },
  {
   "cell_type": "code",
   "execution_count": 59,
   "metadata": {},
   "outputs": [
    {
     "name": "stdout",
     "output_type": "stream",
     "text": [
      "[3, 1]\n",
      "[3, 1]\n",
      "[9, 9, 9, 1]\n",
      "[3, 1]\n",
      "[3, 1]\n"
     ]
    }
   ],
   "source": [
    "#avoid this in this way\n",
    "def f(x = None):\n",
    "    if x is None:\n",
    "        x = [3]\n",
    "    x.append(1)\n",
    "    return x\n",
    "\n",
    "print(f())\n",
    "print(f())\n",
    "print(f(x = [9,9,9]))\n",
    "print(f())\n",
    "print(f())"
   ]
  },
  {
   "cell_type": "markdown",
   "metadata": {},
   "source": [
    "## Higher order functions\n",
    "\n",
    "Function acts on function (func of func) not only variable. All these are extremely common. A way to get compact code.\n",
    "A function that uses another function as an input argument or returns a function is known as a higher-order function (HOF). The most familiar examples are `map` and `filter`."
   ]
  },
  {
   "cell_type": "markdown",
   "metadata": {},
   "source": [
    "### map\n",
    "\n",
    "The map function applies a function to each member of a collection; \"cast\" is present also in python"
   ]
  },
  {
   "cell_type": "code",
   "execution_count": 14,
   "metadata": {},
   "outputs": [
    {
     "name": "stdout",
     "output_type": "stream",
     "text": [
      "[0, 1, 4, 9, 16]\n"
     ]
    }
   ],
   "source": [
    "x = list(map(square, range(5))) #map(unc, list)-> list\n",
    "print (x)\n",
    "\n",
    "# Note the difference w.r.t python 2. In python 3 map retuns an iterator so you can do stuff like:\n",
    "#for i in map(square,range(5)): print(i)"
   ]
  },
  {
   "cell_type": "markdown",
   "metadata": {},
   "source": [
    "### filter\n",
    "\n",
    "The filter function applies a predicate to each memmber of a collection, retaining only those members where the predicate is True"
   ]
  },
  {
   "cell_type": "code",
   "execution_count": 27,
   "metadata": {},
   "outputs": [
    {
     "name": "stdout",
     "output_type": "stream",
     "text": [
      "[0, 2, 4]\n"
     ]
    }
   ],
   "source": [
    "def is_even(x):\n",
    "    return x%2 == 0 #resto\n",
    "\n",
    "print (list(filter(is_even, range(5))))"
   ]
  },
  {
   "cell_type": "code",
   "execution_count": 28,
   "metadata": {},
   "outputs": [
    {
     "data": {
      "text/plain": [
       "[0, 4, 16]"
      ]
     },
     "execution_count": 28,
     "metadata": {},
     "output_type": "execute_result"
    }
   ],
   "source": [
    "list(map(square, filter(is_even, range(5))))"
   ]
  },
  {
   "cell_type": "markdown",
   "metadata": {},
   "source": [
    "### reduce\n",
    "\n",
    "The reduce function reduces a collection using a binary operator to combine items two at a time. More often than not reduce can be substituted with a more efficient for loop. It is worth mentioning it for its key role in big-data applications together with map (the map-reduce paradigm). \n",
    "N.B.: it no loger exist as built-in function in python 3, it is now part of the `functools` library"
   ]
  },
  {
   "cell_type": "code",
   "execution_count": 17,
   "metadata": {},
   "outputs": [
    {
     "data": {
      "text/plain": [
       "15"
      ]
     },
     "execution_count": 17,
     "metadata": {},
     "output_type": "execute_result"
    }
   ],
   "source": [
    "from functools import reduce\n",
    "\n",
    "def my_add(x, y):\n",
    "    return x + y\n",
    "\n",
    "# another implementation of the sum function\n",
    "reduce(my_add, [1,2,3,4,5])"
   ]
  },
  {
   "cell_type": "markdown",
   "metadata": {},
   "source": [
    "### zip\n",
    "\n",
    "zip is useful when you need to iterate over matched elements of multiple lists"
   ]
  },
  {
   "cell_type": "code",
   "execution_count": 9,
   "metadata": {},
   "outputs": [
    {
     "name": "stdout",
     "output_type": "stream",
     "text": [
      "1 10 a\n",
      "2 20 b\n",
      "3 30 c\n",
      "4 40 d\n"
     ]
    }
   ],
   "source": [
    "#combine el homogenous across the lists\n",
    "a = [1, 2, 3, 4]\n",
    "b = [10, 20, 30, 40]\n",
    "c = ['a', 'b', 'c', 'd', 'e']\n",
    "\n",
    "for x, y, z in zip(a, b, c):\n",
    "    print (x, y, z)"
   ]
  },
  {
   "cell_type": "markdown",
   "metadata": {},
   "source": [
    "### Custom HOF"
   ]
  },
  {
   "cell_type": "code",
   "execution_count": 10,
   "metadata": {},
   "outputs": [
    {
     "name": "stdout",
     "output_type": "stream",
     "text": [
      "30\n",
      "100\n"
     ]
    }
   ],
   "source": [
    "def custom_sum(a, transform):\n",
    "    \"\"\"Returns the sum of a after a user specified transform.\"\"\"\n",
    "    return sum(map(transform, a))\n",
    "\n",
    "a = range(5)\n",
    "print (custom_sum(a, square))\n",
    "print (custom_sum(a, cube))"
   ]
  },
  {
   "cell_type": "markdown",
   "metadata": {},
   "source": [
    "### Returning a function"
   ]
  },
  {
   "cell_type": "code",
   "execution_count": 30,
   "metadata": {},
   "outputs": [],
   "source": [
    "def make_logger(target):\n",
    "    def logger(data):\n",
    "        with open(target, 'a') as f:\n",
    "            f.write(data + '\\n')\n",
    "    return logger\n",
    "\n",
    "foo_logger = make_logger('foo.txt') #foo.txt will be created if not there already\n",
    "file = open(\"foo.txt\", \"r+\"); file.truncate(); file.close; #see outputs of this cell many time w/ and w/o this\n",
    "foo_logger('Hello')\n",
    "foo_logger('World')"
   ]
  },
  {
   "cell_type": "code",
   "execution_count": 29,
   "metadata": {},
   "outputs": [
    {
     "name": "stdout",
     "output_type": "stream",
     "text": [
      "Hello\r\n",
      "World\r\n"
     ]
    }
   ],
   "source": [
    "! cat 'foo.txt' #prints to screen whats in a file"
   ]
  },
  {
   "cell_type": "markdown",
   "metadata": {},
   "source": [
    "## Anonimous functions (lambda)\n",
    "\n",
    "When using functional style, there is often the need to create specific functions that perform a limited task as input to a HOF such as map or filter. In such cases, these functions are often written as anonymous or lambda functions. \n",
    "The syntax is as follows:\n",
    "\n",
    "lambda *arguments* : *expression*\n",
    "\n",
    "\n",
    "If you find it hard to understand what a lambda function is doing, it should probably be rewritten as a regular function."
   ]
  },
  {
   "cell_type": "code",
   "execution_count": 3,
   "metadata": {},
   "outputs": [
    {
     "data": {
      "text/plain": [
       "7"
      ]
     },
     "execution_count": 3,
     "metadata": {},
     "output_type": "execute_result"
    }
   ],
   "source": [
    "sum = lambda x,y: x+y #insted of def but \"on theAvrei bisogno di fly\"\n",
    "sum(3,4)"
   ]
  },
  {
   "cell_type": "code",
   "execution_count": 31,
   "metadata": {},
   "outputs": [
    {
     "name": "stdout",
     "output_type": "stream",
     "text": [
      "0\n",
      "1\n",
      "4\n",
      "9\n",
      "16\n"
     ]
    }
   ],
   "source": [
    "for i in map(lambda x: x*x, range(5)): print (i)"
   ]
  },
  {
   "cell_type": "code",
   "execution_count": 34,
   "metadata": {},
   "outputs": [
    {
     "name": "stdout",
     "output_type": "stream",
     "text": [
      "285\n"
     ]
    }
   ],
   "source": [
    "# what does this function do? sum of x**2 for x in range(1,10)\n",
    "from functools import reduce\n",
    "temp=int()\n",
    "s1 = reduce(lambda x, y: x+y, map(lambda x: x**2, range(1,10)))\n",
    "print(s1)"
   ]
  },
  {
   "cell_type": "markdown",
   "metadata": {},
   "source": [
    "## Recursive functions "
   ]
  },
  {
   "cell_type": "code",
   "execution_count": 47,
   "metadata": {},
   "outputs": [
    {
     "name": "stdout",
     "output_type": "stream",
     "text": [
      "[1, 1, 2, 3, 5, 8, 13, 21, 34, 55]\n"
     ]
    }
   ],
   "source": [
    "def fib1(n):\n",
    "    \"\"\"Fib with recursion.\"\"\"\n",
    "\n",
    "    # base case\n",
    "    if n==0 or n==1:\n",
    "        return 1\n",
    "    # recurssive case\n",
    "    else:\n",
    "        return fib1(n-1) + fib1(n-2)\n",
    "\n",
    "    \n",
    "print ([fib1(i) for i in range(10)])"
   ]
  },
  {
   "cell_type": "code",
   "execution_count": 48,
   "metadata": {},
   "outputs": [
    {
     "name": "stdout",
     "output_type": "stream",
     "text": [
      "[1, 1, 2, 3, 5, 8, 13, 21, 34, 55]\n"
     ]
    }
   ],
   "source": [
    "# In Python, a more efficient version that does not use recursion is\n",
    "\n",
    "def fib2(n):\n",
    "    \"\"\"Fib without recursion.\"\"\"\n",
    "    a, b = 0, 1\n",
    "    for i in range(1, n+1):\n",
    "        a, b = b, a+b\n",
    "    return b\n",
    "\n",
    "print ([fib2(i) for i in range(10)])"
   ]
  },
  {
   "cell_type": "code",
   "execution_count": 49,
   "metadata": {},
   "outputs": [
    {
     "name": "stdout",
     "output_type": "stream",
     "text": [
      "3.63 ms ± 73.5 µs per loop (mean ± std. dev. of 7 runs, 100 loops each)\n",
      "1.4 µs ± 7.29 ns per loop (mean ± std. dev. of 7 runs, 1000000 loops each)\n"
     ]
    }
   ],
   "source": [
    "# check indeed the timing:\n",
    "\n",
    "%timeit fib1(20)\n",
    "%timeit fib2(20)\n"
   ]
  },
  {
   "cell_type": "markdown",
   "metadata": {},
   "source": [
    "## Iterators\n",
    "\n",
    "Iterators represent streams of values. Because only one value is consumed at a time, they use very little memory. Use of iterators is very helpful for working with data sets too large to fit into RAM."
   ]
  },
  {
   "cell_type": "code",
   "execution_count": 35,
   "metadata": {},
   "outputs": [
    {
     "name": "stdout",
     "output_type": "stream",
     "text": [
      "1\n",
      "2\n",
      "3\n"
     ]
    },
    {
     "ename": "StopIteration",
     "evalue": "",
     "output_type": "error",
     "traceback": [
      "\u001b[0;31m---------------------------------------------------------------------------\u001b[0m",
      "\u001b[0;31mStopIteration\u001b[0m                             Traceback (most recent call last)",
      "\u001b[0;32m<ipython-input-35-7fd2aa3a4ecb>\u001b[0m in \u001b[0;36m<module>\u001b[0;34m\u001b[0m\n\u001b[1;32m      7\u001b[0m \u001b[0mprint\u001b[0m \u001b[0;34m(\u001b[0m\u001b[0mnext\u001b[0m\u001b[0;34m(\u001b[0m\u001b[0mx_iter\u001b[0m\u001b[0;34m)\u001b[0m\u001b[0;34m)\u001b[0m\u001b[0;34m\u001b[0m\u001b[0;34m\u001b[0m\u001b[0m\n\u001b[1;32m      8\u001b[0m \u001b[0mprint\u001b[0m \u001b[0;34m(\u001b[0m\u001b[0mnext\u001b[0m\u001b[0;34m(\u001b[0m\u001b[0mx_iter\u001b[0m\u001b[0;34m)\u001b[0m\u001b[0;34m)\u001b[0m\u001b[0;34m\u001b[0m\u001b[0;34m\u001b[0m\u001b[0m\n\u001b[0;32m----> 9\u001b[0;31m \u001b[0mprint\u001b[0m \u001b[0;34m(\u001b[0m\u001b[0mnext\u001b[0m\u001b[0;34m(\u001b[0m\u001b[0mx_iter\u001b[0m\u001b[0;34m)\u001b[0m\u001b[0;34m)\u001b[0m\u001b[0;34m\u001b[0m\u001b[0;34m\u001b[0m\u001b[0m\n\u001b[0m",
      "\u001b[0;31mStopIteration\u001b[0m: "
     ]
    }
   ],
   "source": [
    "# Iterators can be created from sequences with the built-in function iter()\n",
    "\n",
    "xs = [1,2,3]\n",
    "x_iter = iter(xs)\n",
    "\n",
    "print (next(x_iter))\n",
    "print (next(x_iter))\n",
    "print (next(x_iter))\n",
    "print (next(x_iter))"
   ]
  },
  {
   "cell_type": "code",
   "execution_count": 51,
   "metadata": {},
   "outputs": [
    {
     "name": "stdout",
     "output_type": "stream",
     "text": [
      "1\n",
      "2\n",
      "3\n"
     ]
    }
   ],
   "source": [
    "# Most commonly, iterators are used (automatically) within a for loop\n",
    "# which terminates when it encouters a StopIteration exception\n",
    "\n",
    "x_iter = iter(xs)\n",
    "for x in x_iter:\n",
    "    print (x)"
   ]
  },
  {
   "cell_type": "markdown",
   "metadata": {},
   "source": [
    "## More on comprehensions"
   ]
  },
  {
   "cell_type": "code",
   "execution_count": 52,
   "metadata": {},
   "outputs": [
    {
     "name": "stdout",
     "output_type": "stream",
     "text": [
      "<generator object <genexpr> at 0x7f17424f2510>\n",
      "[0, 1, 2, 3, 4, 5, 6, 7, 8, 9]\n",
      "{0, 1, 2, 3, 4, 5, 6, 7, 8, 9}\n",
      "{0: 0, 1: 1, 2: 2, 3: 3, 4: 4, 5: 5, 6: 6, 7: 7, 8: 8, 9: 9}\n"
     ]
    }
   ],
   "source": [
    "# A generator expression // dictionaries and list compr\n",
    "\n",
    "print ((x for x in range(10)))\n",
    "\n",
    "# A list comprehension\n",
    "\n",
    "print ([x for x in range(10)])\n",
    "\n",
    "# A set comprehension\n",
    "\n",
    "print ({x for x in range(10)})\n",
    "\n",
    "# A dictionary comprehension\n",
    "\n",
    "print ({x: x for x in range(10)})"
   ]
  },
  {
   "cell_type": "markdown",
   "metadata": {},
   "source": [
    "## Useful Modules\n",
    "\n",
    "You may want to have a look at the content of the following modules for further usage of (HO) functions:\n",
    "  - [operator](https://docs.python.org/3/library/operator.html)\n",
    "  - [functools](https://docs.python.org/3/library/functools.html)\n",
    "  - [itertools](https://docs.python.org/3/library/itertools.html)\n",
    "  - [toolz](https://pypi.org/project/toolz/)\n",
    "  - [funcy](https://pypi.org/project/funcy/)"
   ]
  },
  {
   "cell_type": "markdown",
   "metadata": {},
   "source": [
    "## Decorators\n",
    "\n",
    "Decorators are a type of HOF that take a function and return a wrapped function that provides additional useful properties.\n",
    "\n",
    "Examples:\n",
    "\n",
    "  - logging\n",
    "  - profiling\n",
    "  - Just-In-Time (JIT) compilation"
   ]
  },
  {
   "cell_type": "code",
   "execution_count": 36,
   "metadata": {},
   "outputs": [],
   "source": [
    "def my_decorator(func):\n",
    "    def wrapper():\n",
    "        print(\"Something is happening before the function is called.\")\n",
    "        func()\n",
    "        print(\"Something is happening after the function is called.\")\n",
    "    return wrapper\n",
    "\n",
    "def say_whee():\n",
    "    print(\"Whee!\")\n",
    "#wrap w/in the funct the decorator\n",
    "say_whee = my_decorator(say_whee)"
   ]
  },
  {
   "cell_type": "code",
   "execution_count": 37,
   "metadata": {},
   "outputs": [
    {
     "name": "stdout",
     "output_type": "stream",
     "text": [
      "Something is happening before the function is called.\n",
      "Whee!\n",
      "Something is happening after the function is called.\n"
     ]
    }
   ],
   "source": [
    "say_whee()"
   ]
  },
  {
   "cell_type": "markdown",
   "metadata": {},
   "source": [
    "Python allows you to use decorators in a simpler way with the @ symbol, sometimes called the “pie” syntax"
   ]
  },
  {
   "cell_type": "code",
   "execution_count": 39,
   "metadata": {},
   "outputs": [],
   "source": [
    "def my_decorator(func):\n",
    "    def wrapper():\n",
    "        print(\"Something is happening before the function is called.\")\n",
    "        func()\n",
    "        print(\"Something is happening after the function is called.\")\n",
    "    return wrapper\n",
    "\n",
    "@my_decorator\n",
    "def say_whee():\n",
    "    print(\"Whee!\")"
   ]
  },
  {
   "cell_type": "code",
   "execution_count": 2,
   "metadata": {},
   "outputs": [
    {
     "name": "stdout",
     "output_type": "stream",
     "text": [
      "Something is happening before the function is called.\n",
      "Whee!\n",
      "Something is happening after the function is called.\n"
     ]
    }
   ],
   "source": [
    "say_whee()"
   ]
  },
  {
   "cell_type": "markdown",
   "metadata": {},
   "source": [
    "# Classes and Objects\n",
    "\n",
    "Old school object-oriented programming is possible and often used in python. Classes are defined similarly to standard object-oriented languages, with similar functionalities.\n",
    "\n",
    "The main python doc [page](https://docs.python.org/3.6/tutorial/classes.html) is worth reading through "
   ]
  },
  {
   "cell_type": "code",
   "execution_count": 63,
   "metadata": {},
   "outputs": [
    {
     "name": "stdout",
     "output_type": "stream",
     "text": [
      "buddy 12\n",
      "3\n"
     ]
    }
   ],
   "source": [
    "class Pet:\n",
    "    # the \"constructor\" (default method)\n",
    "    def __init__(self, name, age):  #method=self, inizialize the elements of the class\n",
    "        self.name=name\n",
    "        self.age=age\n",
    "    # class functions take the \"self\" parameter !!!\n",
    "    def set_name(self,name):\n",
    "        self.name=name\n",
    "    def convert_age(self,factor):\n",
    "        self.age*=factor\n",
    "\n",
    "buddy=Pet(\"buddy\",12)\n",
    "print (buddy.name, buddy.age)\n",
    "buddy.age=3\n",
    "print (buddy.age)\n",
    "\n"
   ]
  },
  {
   "cell_type": "code",
   "execution_count": 64,
   "metadata": {},
   "outputs": [
    {
     "name": "stdout",
     "output_type": "stream",
     "text": [
      "tobia\n",
      "70\n"
     ]
    }
   ],
   "source": [
    "# ineritance is straightforward\n",
    "class Dog(Pet):\n",
    "    # the following variables is \"global\", i.e. holds for all \"Dog\" objects\n",
    "    species = \"mammal\"\n",
    "    # functions can be redefined as usual\n",
    "    def convert_age(self):\n",
    "        self.age*=7\n",
    "    def set_species(self, species):\n",
    "        self.species = species\n",
    "        \n",
    "puppy=Dog(\"tobia\",10)\n",
    "print(puppy.name)\n",
    "puppy.convert_age()\n",
    "print(puppy.age)\n",
    "\n"
   ]
  },
  {
   "cell_type": "code",
   "execution_count": null,
   "metadata": {},
   "outputs": [],
   "source": []
  }
 ],
 "metadata": {
  "kernelspec": {
   "display_name": "Python 3",
   "language": "python",
   "name": "python3"
  },
  "language_info": {
   "codemirror_mode": {
    "name": "ipython",
    "version": 3
   },
   "file_extension": ".py",
   "mimetype": "text/x-python",
   "name": "python",
   "nbconvert_exporter": "python",
   "pygments_lexer": "ipython3",
   "version": "3.8.3"
  }
 },
 "nbformat": 4,
 "nbformat_minor": 4
}
