{
 "cells": [
  {
   "cell_type": "code",
   "execution_count": null,
   "metadata": {},
   "outputs": [],
   "source": [
    "#output without print\n",
    "from IPython.core.interactiveshell import InteractiveShell \n",
    "InteractiveShell.ast_node_interactivity = \"all\""
   ]
  },
  {
   "cell_type": "markdown",
   "metadata": {},
   "source": [
    "# Exercise 1"
   ]
  },
  {
   "cell_type": "markdown",
   "metadata": {},
   "source": [
    "## Part 1.a"
   ]
  },
  {
   "cell_type": "markdown",
   "metadata": {},
   "source": [
    "1. The MickeyMouse problem\n",
    "\n",
    "a) Write a program that prints the numbers from 1 to 100. But for multiples of three print Mickey instead of the number and for the multiples of five print Mouse. For numbers which are multiples of both three and five print MickeyMouse"
   ]
  },
  {
   "cell_type": "code",
   "execution_count": 1,
   "metadata": {
    "scrolled": true
   },
   "outputs": [
    {
     "name": "stdout",
     "output_type": "stream",
     "text": [
      "[1, 2, 'Mickey', 4, 'Mouse', 'Mickey', 7, 8, 'Mickey', 'Mouse', 11, 'Mickey', 13, 14, 'MickeyMouse', 16, 17, 'Mickey', 19, 'Mouse', 'Mickey', 22, 23, 'Mickey', 'Mouse', 26, 'Mickey', 28, 29, 'MickeyMouse', 31, 32, 'Mickey', 34, 'Mouse', 'Mickey', 37, 38, 'Mickey', 'Mouse', 41, 'Mickey', 43, 44, 'MickeyMouse', 46, 47, 'Mickey', 49, 'Mouse', 'Mickey', 52, 53, 'Mickey', 'Mouse', 56, 'Mickey', 58, 59, 'MickeyMouse', 61, 62, 'Mickey', 64, 'Mouse', 'Mickey', 67, 68, 'Mickey', 'Mouse', 71, 'Mickey', 73, 74, 'MickeyMouse', 76, 77, 'Mickey', 79, 'Mouse', 'Mickey', 82, 83, 'Mickey', 'Mouse', 86, 'Mickey', 88, 89, 'MickeyMouse', 91, 92, 'Mickey', 94, 'Mouse', 'Mickey', 97, 98, 'Mickey', 'Mouse'] \n",
      "\n",
      "[1, 2, 'Mickey', 4, 'Mouse', 'Mickey', 7, 8, 'Mickey', 'Mouse', 11, 'Mickey', 13, 14, 'MickeyMouse', 16, 17, 'Mickey', 19, 'Mouse', 'Mickey', 22, 23, 'Mickey', 'Mouse', 26, 'Mickey', 28, 29, 'MickeyMouse', 31, 32, 'Mickey', 34, 'Mouse', 'Mickey', 37, 38, 'Mickey', 'Mouse', 41, 'Mickey', 43, 44, 'MickeyMouse', 46, 47, 'Mickey', 49, 'Mouse', 'Mickey', 52, 53, 'Mickey', 'Mouse', 56, 'Mickey', 58, 59, 'MickeyMouse', 61, 62, 'Mickey', 64, 'Mouse', 'Mickey', 67, 68, 'Mickey', 'Mouse', 71, 'Mickey', 73, 74, 'MickeyMouse', 76, 77, 'Mickey', 79, 'Mouse', 'Mickey', 82, 83, 'Mickey', 'Mouse', 86, 'Mickey', 88, 89, 'MickeyMouse', 91, 92, 'Mickey', 94, 'Mouse', 'Mickey', 97, 98, 'Mickey', 'Mouse']\n",
      "\n",
      "They're the same\n"
     ]
    }
   ],
   "source": [
    "n = int(1e2)\n",
    "list_1a = list(range(1,n+1)) #create a \"list\" w/ char&numb, \"range\" = [1,101)\n",
    "#print(list_1a); print(list_1a[0],list_1a[2])\n",
    "list_1a[2::3] = [\"Mickey\"]*int(n/3) #start: 3rd el (0,1,2<-); stop: none; step: 3\n",
    "list_1a[4::5] = [\"Mouse\"]*(int(n/5))\n",
    "list_1a[14::15] = [\"MickeyMouse\"]*(int(n/15))\n",
    "\n",
    "print(list_1a[:100], \"\\n\");\n",
    "\n",
    "#another try:\n",
    "list_2a = list(range(1,n+1))\n",
    "for x in range(1,int(n/3+1)): list_2a[3*x-1]=\"Mickey\" #\"+1\" due to initial place is 0// \"-1\" since array starts from 0th el\n",
    "for x in range(1,int(n/5+1)): list_2a[5*x-1]=\"Mouse\";\n",
    "for x in range(1,int(n/15)+1): list_2a[15*x-1]=\"MickeyMouse\";\n",
    "print(list_2a[:100])\n",
    "a= int(0);\n",
    "for i in range(0, int(1e2)): \n",
    "    if list_1a[i] == list_2a[i]: a=a+1; #print(list_1a[i],list_2a[i]);\n",
    "    #else: print(\"Error in\", list_1a[i],list_2a[i]);\n",
    "#print(\"\\n\",a)\n",
    "if a==1e2: print(\"\\nThey're the same\")\n",
    "else: print(\"\\nThey're not the same\")"
   ]
  },
  {
   "cell_type": "markdown",
   "metadata": {},
   "source": [
    "## Part 1.b"
   ]
  },
  {
   "cell_type": "markdown",
   "metadata": {},
   "source": [
    "b) Put the result in a tuple and substitute Mickey with Donald and Mouse with Duck"
   ]
  },
  {
   "cell_type": "code",
   "execution_count": 2,
   "metadata": {},
   "outputs": [
    {
     "name": "stdout",
     "output_type": "stream",
     "text": [
      "(1, 2, 'Donald', 4, 'Duck', 'Donald', 7, 8, 'Donald', 'Duck', 11, 'Donald', 13, 14, 'DonaldDuck', 16, 17, 'Donald', 19, 'Duck', 'Donald', 22, 23, 'Donald', 'Duck', 26, 'Donald', 28, 29, 'DonaldDuck', 31, 32, 'Donald', 34, 'Duck', 'Donald', 37, 38, 'Donald', 'Duck', 41, 'Donald', 43, 44, 'DonaldDuck', 46, 47, 'Donald', 49, 'Duck', 'Donald', 52, 53, 'Donald', 'Duck', 56, 'Donald', 58, 59, 'DonaldDuck', 61, 62, 'Donald', 64, 'Duck', 'Donald', 67, 68, 'Donald', 'Duck', 71, 'Donald', 73, 74, 'DonaldDuck', 76, 77, 'Donald', 79, 'Duck', 'Donald', 82, 83, 'Donald', 'Duck', 86, 'Donald', 88, 89, 'DonaldDuck', 91, 92, 'Donald', 94, 'Duck', 'Donald', 97, 98, 'Donald', 'Duck')\n"
     ]
    }
   ],
   "source": [
    "list_1b = tuple(list_1a)\n",
    "\n",
    "var_1b = list(list_1b)\n",
    "\n",
    "var_1b[2::3] = [\"Donald\"]*(int(n/3))\n",
    "var_1b[4::5] = [\"Duck\"]*(int(n/5))\n",
    "var_1b[14::15] = [\"DonaldDuck\"]*(int(n/15))\n",
    "\n",
    "list_1b_2 = tuple(var_1b)\n",
    "\n",
    "print(list_1b_2[:100])"
   ]
  },
  {
   "cell_type": "markdown",
   "metadata": {},
   "source": [
    "# Exercise 2"
   ]
  },
  {
   "cell_type": "markdown",
   "metadata": {},
   "source": [
    "2\\. The swap function\n",
    "\n",
    "Write a function that swap the values of two input variables x and y (whatever the type). Try to do that also without a temporary variable"
   ]
  },
  {
   "cell_type": "code",
   "execution_count": 3,
   "metadata": {
    "scrolled": true
   },
   "outputs": [
    {
     "name": "stdout",
     "output_type": "stream",
     "text": [
      "Init:     [4, 'swap'] True\n",
      "1st swap: True [4, 'swap']\n",
      "2nd swap: [4, 'swap'] True\n",
      "3rd swap: True [4, 'swap']\n"
     ]
    }
   ],
   "source": [
    "def swap_with_temp(a,b):\n",
    "    temp = a\n",
    "    a = b\n",
    "    b = temp\n",
    "    return(a,b)\n",
    "\n",
    "def swap_without_temp(a,b):\n",
    "    return(b,a); print(\"noone is printing me\")\n",
    "    \n",
    "\n",
    "x = [4, \"swap\"]\n",
    "y = True\n",
    "print(\"Init:    \", x,y)\n",
    "\n",
    "x,y = swap_with_temp(x,y)\n",
    "print(\"1st swap:\", x,y)\n",
    "x,y = swap_without_temp(x,y)\n",
    "print(\"2nd swap:\",x,y)\n",
    "x,y = y,x #same as swap_without_temp but without defining a function\n",
    "print(\"3rd swap:\", x,y)"
   ]
  },
  {
   "cell_type": "markdown",
   "metadata": {},
   "source": [
    "# Exercise 3 "
   ]
  },
  {
   "cell_type": "markdown",
   "metadata": {},
   "source": [
    "3\\. Computing the distance\n",
    "\n",
    "Write a function that calculates and returns the euclidean distance between two points *u* and *v*, where *u* and *v* are both 2-tuples *(x,y)*. For example, if *u=(3,0)* and *v=(0,4)*, the function should return 5"
   ]
  },
  {
   "cell_type": "code",
   "execution_count": 4,
   "metadata": {},
   "outputs": [
    {
     "name": "stdout",
     "output_type": "stream",
     "text": [
      "5.0\n",
      "5.0\n",
      "5.0\n"
     ]
    }
   ],
   "source": [
    "from math import sqrt #or import math but under math.sqrt()\n",
    "from scipy.spatial import distance\n",
    "w = list(range(0,2));\n",
    "\n",
    "def eucl_dist(u,v):\n",
    "    w = ((u[i]-v[i])**2 for i in [0,1]); #vector-like\n",
    "    return(sqrt(sum(w)))\n",
    "\n",
    "def e_d(u,v): \n",
    "    temp = int(0)\n",
    "    for i in [0,1]: w[i]=(u[i]-v[i])**2; temp += w[i] #array-like\n",
    "    return(sqrt(temp))\n",
    "        \n",
    "\n",
    "u = (3,0)\n",
    "v = (0,4)\n",
    "\n",
    "print(eucl_dist(u,v))\n",
    "print(e_d(u,v))\n",
    "print(distance.euclidean(u,v))"
   ]
  },
  {
   "cell_type": "markdown",
   "metadata": {},
   "source": [
    "# Exercise 4 "
   ]
  },
  {
   "cell_type": "markdown",
   "metadata": {},
   "source": [
    "4\\. Counting letters\n",
    "\n",
    "Write a program to calculate the number of times each character occurs in a given string *s*. Ignore differneces in capitalization"
   ]
  },
  {
   "cell_type": "code",
   "execution_count": 10,
   "metadata": {},
   "outputs": [],
   "source": [
    "s=\"Write a program that prints the numbers from 1 to 100. \\\n",
    "But for multiples of three print Mickey instead of the number and for the multiples of five print Mouse. \\\n",
    "For numbers which are multiples of both three and five print MickeyMouse\""
   ]
  },
  {
   "cell_type": "code",
   "execution_count": 11,
   "metadata": {},
   "outputs": [
    {
     "name": "stdout",
     "output_type": "stream",
     "text": [
      "  : 41\n",
      ". : 2\n",
      "0 : 2\n",
      "1 : 2\n",
      "a : 7\n",
      "b : 5\n",
      "c : 3\n",
      "d : 3\n",
      "e : 22\n",
      "f : 10\n",
      "g : 1\n",
      "h : 9\n",
      "i : 14\n",
      "k : 2\n",
      "l : 6\n",
      "m : 12\n",
      "n : 10\n",
      "o : 13\n",
      "p : 8\n",
      "r : 17\n",
      "s : 9\n",
      "t : 19\n",
      "u : 9\n",
      "v : 2\n",
      "w : 2\n",
      "y : 2\n"
     ]
    }
   ],
   "source": [
    "s_low = s.lower()\n",
    "\n",
    "count_4 = {}\n",
    "\n",
    "for char in s_low:\n",
    "    count_4[char] = s_low.count(char)\n",
    "#print(\"a is counted\", count_4[\"a\"])\n",
    "for i in sorted(count_4):\n",
    "    print(\"%s : %s\" %(i, count_4[i]))"
   ]
  },
  {
   "cell_type": "markdown",
   "metadata": {},
   "source": [
    "# Exercise 5 "
   ]
  },
  {
   "cell_type": "markdown",
   "metadata": {},
   "source": [
    "5\\. Isolating the unique\n",
    "\n",
    "Write a function that determines and count the unique numbers in the list *l*"
   ]
  },
  {
   "cell_type": "code",
   "execution_count": 5,
   "metadata": {},
   "outputs": [],
   "source": [
    "l = [36,45, 58, 3, 74, 96, 64, 45, 31, 10, 24, 19, 33, 86, 99, 18, 63, 70, 85,\n",
    " 85, 63, 47, 56, 42, 70, 84, 88, 55, 20, 54, 8, 56, 51, 79, 81, 57, 37, 91,\n",
    " 1, 84, 84, 36, 66, 9, 89, 50, 42, 91, 50, 95, 90, 98, 39, 16, 82, 31, 92, 41,\n",
    " 45, 30, 66, 70, 34, 85, 94, 5, 3, 36, 72, 91, 84, 34, 87, 75, 53, 51, 20, 89, 51, 20]"
   ]
  },
  {
   "cell_type": "code",
   "execution_count": 51,
   "metadata": {},
   "outputs": [
    {
     "name": "stdout",
     "output_type": "stream",
     "text": [
      "<class 'dict'>\n",
      "There are 54 unique numbers in the list and they are:\n",
      "1,3,5,8,9,10,16,18,19,20,24,30,31,33,34,36,37,39,41,42,45,47,50,51,53,54,55,56,57,58,63,64,66,70,72,74,75,79,81,82,84,85,86,87,88,89,90,91,92,94,95,96,98,99\n",
      "\n",
      "The ordered unique 54 values are \n",
      " {1, 3, 5, 8, 9, 10, 16, 18, 19, 20, 24, 30, 31, 33, 34, 36, 37, 39, 41, 42, 45, 47, 50, 51, 53, 54, 55, 56, 57, 58, 63, 64, 66, 70, 72, 74, 75, 79, 81, 82, 84, 85, 86, 87, 88, 89, 90, 91, 92, 94, 95, 96, 98, 99}\n",
      "\n",
      "There are 54 unique numbers in the list and they are:\n",
      "1,3,5,8,9,10,16,18,19,20,24,30,31,33,34,36,37,39,41,42,45,47,50,51,53,54,55,56,57,58,63,64,66,70,72,74,75,79,81,82,84,85,86,87,88,89,90,91,92,94,95,96,98,99\n"
     ]
    }
   ],
   "source": [
    "#1st method: create a dict w/ some places w/o a #\n",
    "unique={} #print(type(unique))\n",
    "for numb in l: unique[numb] = l.count(numb) #???\n",
    "\n",
    "print(\"There are %i unique numbers in the list and they are:\" %len(unique))\n",
    "print(*sorted(unique), sep=\",\")\n",
    "\n",
    "#2nd method\n",
    "unique_values=set(l) #sets cannot have multiple occurrences of the same element and store unordered values.\n",
    "print(\"\\nThe ordered unique %s values are \\n %s\" %(len(set(l)), unique_values) )\n",
    "\n",
    "#3rd method\n",
    "import numpy as np\n",
    "def unique(list1): \n",
    "    x = np.array(list1) \n",
    "    return(np.unique(x))\n",
    "\n",
    "print(\"\\nThere are %i unique numbers in the list and they are:\" %len(unique(l)))\n",
    "print(*unique(l), sep=\",\")"
   ]
  },
  {
   "cell_type": "markdown",
   "metadata": {},
   "source": [
    "# Exercise 6 "
   ]
  },
  {
   "cell_type": "markdown",
   "metadata": {},
   "source": [
    "6\\. Combination of functions\n",
    "\n",
    "Write two functions - one that returns the square of a number, and one that returns the cube. Now write a third function that returns the number raised to the 6th power using the two previous functions."
   ]
  },
  {
   "cell_type": "code",
   "execution_count": 42,
   "metadata": {},
   "outputs": [
    {
     "name": "stdout",
     "output_type": "stream",
     "text": [
      "4\n",
      "8\n",
      "64\n"
     ]
    }
   ],
   "source": [
    "def square(x):\n",
    "    return(x*x)\n",
    "    \n",
    "def cube(x):\n",
    "    return(x**3)\n",
    "\n",
    "def sixth_pow(x):\n",
    "    return(square(cube(x)))\n",
    "\n",
    "x_6=2\n",
    "\n",
    "print(square(x_6))\n",
    "print(cube(x_6))\n",
    "print(sixth_pow(x_6))"
   ]
  },
  {
   "cell_type": "markdown",
   "metadata": {},
   "source": [
    "# Exercise 7"
   ]
  },
  {
   "cell_type": "markdown",
   "metadata": {},
   "source": [
    "7\\. Cubes\n",
    "\n",
    "Create a list of the cubes of x for x in *[0, 10]* using:\n",
    "\n",
    "a) a for loop\n",
    "\n",
    "b) a list comprehension"
   ]
  },
  {
   "cell_type": "code",
   "execution_count": 10,
   "metadata": {},
   "outputs": [
    {
     "name": "stdout",
     "output_type": "stream",
     "text": [
      "[0, 1, 8, 27, 64, 125, 216, 343, 512, 729, 1000]\n",
      "[0, 1, 8, 27, 64, 125, 216, 343, 512, 729, 1000]\n"
     ]
    }
   ],
   "source": [
    "cubes_for = []\n",
    "\n",
    "for x in range(11):\n",
    "    cubes_for.append(x**3)\n",
    "\n",
    "print(cubes_for)\n",
    "\n",
    "cubes_comp = [x**3 for x in range(11)]\n",
    "\n",
    "print(cubes_comp)"
   ]
  },
  {
   "cell_type": "markdown",
   "metadata": {},
   "source": [
    "# Exercise 8 "
   ]
  },
  {
   "cell_type": "markdown",
   "metadata": {},
   "source": [
    "8\\. Nested list comprehension\n",
    "\n",
    "A Pythagorean triple is an integer solution to the Pythagorean theorem $a^2+b^2=c^2$. The first Pythagorean triple is (3,4,5). Find and put in a tuple all unique Pythagorean triples for the positive integers a, b and c less than 100."
   ]
  },
  {
   "cell_type": "code",
   "execution_count": 11,
   "metadata": {},
   "outputs": [
    {
     "name": "stdout",
     "output_type": "stream",
     "text": [
      "[[3, 4, 5], [5, 12, 13], [6, 8, 10], [7, 24, 25], [8, 15, 17], [9, 12, 15], [9, 40, 41], [10, 24, 26], [11, 60, 61], [12, 16, 20], [12, 35, 37], [13, 84, 85], [14, 48, 50], [15, 20, 25], [15, 36, 39], [16, 30, 34], [16, 63, 65], [18, 24, 30], [18, 80, 82], [20, 21, 29], [20, 48, 52], [21, 28, 35], [21, 72, 75], [24, 32, 40], [24, 45, 51], [24, 70, 74], [25, 60, 65], [27, 36, 45], [28, 45, 53], [30, 40, 50], [30, 72, 78], [32, 60, 68], [33, 44, 55], [33, 56, 65], [35, 84, 91], [36, 48, 60], [36, 77, 85], [39, 52, 65], [39, 80, 89], [40, 42, 58], [40, 75, 85], [42, 56, 70], [45, 60, 75], [48, 55, 73], [48, 64, 80], [51, 68, 85], [54, 72, 90], [57, 76, 95], [60, 63, 87], [65, 72, 97]]\n"
     ]
    }
   ],
   "source": [
    "from math import sqrt\n",
    "\n",
    "n_8 = 100\n",
    "numb_8 = range(1,n)\n",
    "\n",
    "triplets = []\n",
    "\n",
    "for i in numb_8[:int(0.5*(sqrt(2*n**2)-1))]:\n",
    "    for j in numb_8[i:int(sqrt(n**2-i**2))]:\n",
    "        if (sqrt(i**2 + j**2)).is_integer() and sqrt(i**2 + j**2)<100: triplets.append([i,j,int(sqrt(i**2 + j**2))])\n",
    "\n",
    "print(triplets)"
   ]
  },
  {
   "cell_type": "code",
   "execution_count": 12,
   "metadata": {},
   "outputs": [
    {
     "name": "stdout",
     "output_type": "stream",
     "text": [
      "[[3, 4, 5], [5, 12, 13], [7, 24, 25], [8, 15, 17], [9, 40, 41], [11, 60, 61], [12, 35, 37], [13, 84, 85], [16, 63, 65], [20, 21, 29], [28, 45, 53], [33, 56, 65], [36, 77, 85], [39, 80, 89], [48, 55, 73], [65, 72, 97]]\n"
     ]
    }
   ],
   "source": [
    "tnr = [] #triplets not repeated (multiples)\n",
    "\n",
    "for i in range(0,len(triplets)):\n",
    "    ins = True\n",
    "    for j in range(i):\n",
    "        if (triplets[i][0]%triplets[j][0])==0:\n",
    "            if triplets[j][1]*int(triplets[i][0]/triplets[j][0]) == triplets[i][1]:\n",
    "                ins = False\n",
    "                break\n",
    "    if ins:\n",
    "        tnr.append(triplets[i])\n",
    "            \n",
    "print(tnr)"
   ]
  },
  {
   "cell_type": "markdown",
   "metadata": {},
   "source": [
    "# Exercise 9"
   ]
  },
  {
   "cell_type": "markdown",
   "metadata": {},
   "source": [
    "9\\. Normalization\n",
    "\n",
    "Write a function that takes a tuple of numbers and returns it with the entries normalized to one"
   ]
  },
  {
   "cell_type": "code",
   "execution_count": 13,
   "metadata": {},
   "outputs": [
    {
     "name": "stdout",
     "output_type": "stream",
     "text": [
      "(0.1203, 1.0, 0.4301, 0.5714, 0.0)\n"
     ]
    }
   ],
   "source": [
    "def normal(tup,precision=\"no\"):\n",
    "    list_tup = list(tup)\n",
    "    max = list_tup[1]\n",
    "    min = list_tup[1]\n",
    "    for num in list_tup:\n",
    "        if num > max : max = num\n",
    "        if num < min : min = num\n",
    "    for i in range(len(list_tup)):\n",
    "        if precision == \"no\" : list_tup[i]=(list_tup[i]-min)/(max-min)\n",
    "        else : list_tup[i]=round((list_tup[i]-min)/(max-min),precision)\n",
    "    return(tuple(list_tup))\n",
    "\n",
    "\n",
    "tup = (-3,8.7,1.12,3,-4.6)\n",
    "\n",
    "print(normal(tup,4))"
   ]
  },
  {
   "cell_type": "code",
   "execution_count": null,
   "metadata": {},
   "outputs": [],
   "source": []
  }
 ],
 "metadata": {
  "kernelspec": {
   "display_name": "Python 3",
   "language": "python",
   "name": "python3"
  },
  "language_info": {
   "codemirror_mode": {
    "name": "ipython",
    "version": 3
   },
   "file_extension": ".py",
   "mimetype": "text/x-python",
   "name": "python",
   "nbconvert_exporter": "python",
   "pygments_lexer": "ipython3",
   "version": "3.8.3"
  }
 },
 "nbformat": 4,
 "nbformat_minor": 4
}
