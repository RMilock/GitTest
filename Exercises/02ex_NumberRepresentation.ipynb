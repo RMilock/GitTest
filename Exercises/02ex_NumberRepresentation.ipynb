{
 "cells": [
  {
   "cell_type": "markdown",
   "metadata": {},
   "source": [
    "1\\. Write a function that converts number representation (bin<->dec<->hex)"
   ]
  },
  {
   "cell_type": "code",
   "execution_count": 29,
   "metadata": {},
   "outputs": [
    {
     "name": "stdout",
     "output_type": "stream",
     "text": [
      "Base_In:2\n",
      "Base_Out:10\n",
      "Valore di Input (use  if string):0b111\n",
      "7\n",
      "7\n"
     ]
    }
   ],
   "source": [
    "def bindechex(base_in,base_out,x):\n",
    "    x_dec = int(str(x),base_in)\n",
    "    if base_out == 10 :\n",
    "        return x_dec\n",
    "    if base_out == 2 :\n",
    "        return bin(int(x_dec))\n",
    "    if base_out == 16 :\n",
    "        return hex(int(x_dec))\n",
    "\n",
    "base_in = int(input(\"Base_In:\"))   \n",
    "base_out = int(input(\"Base_Out:\"))  \n",
    "value = input(\"Valore di Input (use \"\" if string):\")\n",
    "\n",
    "print(bindechex(base_in,base_out,value))\n",
    "\n",
    "print(bindechex(2,10,'0b111'))\n",
    "#print(bindechex(16,10,'0x17c'))\n",
    "#print(bindechex(10,2,18))\n",
    "#print(bindechex(10,16,99))\n",
    "#print(bindechex(16,2,'0xccc'))"
   ]
  },
  {
   "cell_type": "markdown",
   "metadata": {},
   "source": [
    "2\\. Write a function that converts a 32 bit word into a single precision floating point (i.e. interprets the various bits as sign, mantissa and exponent)"
   ]
  },
  {
   "cell_type": "code",
   "execution_count": 68,
   "metadata": {},
   "outputs": [
    {
     "name": "stdout",
     "output_type": "stream",
     "text": [
      "-5.5\n"
     ]
    }
   ],
   "source": [
    "#ANSWER\n",
    "#translate binary string to dec#\n",
    "def BinToDec(Bin):\n",
    "    #Result converted to decimal\n",
    "    dec = 0\n",
    "    #Write in reverse order:\n",
    "    #LSB is the first element in the string, MSB is the last\n",
    "    Bin = Bin[::-1] #string[start:end:step]\n",
    "    for index, value in enumerate(Bin):\n",
    "        dec = dec + int(value, 2)*2**index\n",
    "        #dec = dec + binconv.find(value[:])*2**index\n",
    "    return dec\n",
    "\n",
    "\n",
    "def convert_precision(x):\n",
    "    if (len(x)>32): return print('Wrong input')\n",
    "    #find sign\n",
    "    elif (x[0]=='0'): s='1' \n",
    "    elif (x[0]=='1'): s='-1'\n",
    "    #find exp\n",
    "    exp=BinToDec(x[1:9])\n",
    "    #find mantissa\n",
    "    mantissa = 1\n",
    "    for i in range(len(x[9:])):\n",
    "        mantissa += int(x[9+i])*2**(-i-1) #\"-1\" since it starts from 0\n",
    "    #report the result\n",
    "    res=int(s)*mantissa*2**(exp-127)\n",
    "    return res\n",
    "    \n",
    "#should be 1431655765\n",
    "print(convert_precision('110000001011'))"
   ]
  },
  {
   "cell_type": "markdown",
   "metadata": {},
   "source": [
    "3\\. Write a program to determine the underflow and overflow limits (within a factor of 2) for python on your computer. \n",
    "\n",
    "**Tips**: define two variables inizialized to 1 and halve/double them enough time to exceed the under/over-flow limits  "
   ]
  },
  {
   "cell_type": "code",
   "execution_count": 15,
   "metadata": {
    "scrolled": true
   },
   "outputs": [
    {
     "name": "stdout",
     "output_type": "stream",
     "text": [
      "1024 8.98846567431158e+307\n",
      "1075 5e-324\n",
      "\n",
      "0.0035969759919680655secs\n"
     ]
    }
   ],
   "source": [
    "import time\n",
    "time_start = time.perf_counter()\n",
    "\n",
    "#find overflow:\n",
    "x=1.0; j=1\n",
    "while j>0:\n",
    "    if x*2==float('inf') :\n",
    "        break\n",
    "    else: x=x*2; j+=1\n",
    "print(j, x) # good for finding the max\n",
    "\n",
    "#find underflow:\n",
    "y=1.0\n",
    "i=1\n",
    "while i>0:\n",
    "    if y/2==0.: \n",
    "        break\n",
    "    y=y/2\n",
    "    i+=1\n",
    "print(i, y)\n",
    "\n",
    "time_elapsed = (time.perf_counter()-time_start)\n",
    "print (\"\\n%ssecs\" % time_elapsed)"
   ]
  },
  {
   "cell_type": "markdown",
   "metadata": {},
   "source": [
    "4\\. Write a program to determine the machine precision\n",
    "\n",
    "**Tips**: define a new variable by adding a smaller and smaller value (proceeding similarly to prob. 2) to an original variable and check the point where the two are the same "
   ]
  },
  {
   "cell_type": "code",
   "execution_count": 16,
   "metadata": {},
   "outputs": [
    {
     "name": "stdout",
     "output_type": "stream",
     "text": [
      "2.220446049250313e-16\n"
     ]
    }
   ],
   "source": [
    "x=1.0\n",
    "y=1.0\n",
    "i=1\n",
    "while i > 0 :\n",
    "    if (x+y/2)==x :\n",
    "        break\n",
    "    y=y/2\n",
    "    i+=1\n",
    "print(y)"
   ]
  },
  {
   "cell_type": "markdown",
   "metadata": {},
   "source": [
    "5\\. Write a function that takes in input three parameters $a$, $b$ and $c$ and prints out the two solutions to the quadratic equation $ax^2+bx+c=0$ using the standard formula:\n",
    "$$\n",
    "x=\\frac{-b\\pm\\sqrt{b^2-4ac}}{2a}\n",
    "$$\n",
    "\n",
    "(a) use the program to compute the solution for $a=0.001$, $b=1000$ and $c=0.001$\n",
    "\n",
    "(b) re-express the standard solution formula by multiplying top and bottom by $-b\\mp\\sqrt{b^2-4ac}$ and again find the solution for $a=0.001$, $b=1000$ and $c=0.001$. How does it compare with what previously obtained? Why?\n",
    "\n",
    "(c) write a function that compute the roots of a quadratic equation accurately in all cases"
   ]
  },
  {
   "cell_type": "code",
   "execution_count": 22,
   "metadata": {},
   "outputs": [
    {
     "name": "stdout",
     "output_type": "stream",
     "text": [
      "(-9.999894245993346e-07, -999999.999999)\n",
      "(-1.0000000000009999e-06, -1000010.5755125057)\n",
      "(-1.0000000000009999e-06, -999999.999999)\n"
     ]
    }
   ],
   "source": [
    "def std_roots(a,b,c):\n",
    "    delta=b**2-4*a*c\n",
    "    if delta < 0:\n",
    "        print('No solutions')\n",
    "        return 0\n",
    "    x1=(-b+delta**0.5)/(2*a)\n",
    "    x2=(-b-delta**0.5)/(2*a)\n",
    "    return (x1,x2)\n",
    "\n",
    "def new_roots(a,b,c):\n",
    "    delta=b**2-4*a*c\n",
    "    if delta < 0:\n",
    "        print('No solutions')\n",
    "        return 0\n",
    "    x1=(4*a*c)/(2*a*(-b-delta**0.5))\n",
    "    x2=(4*a*c)/(2*a*(-b+delta**0.5))\n",
    "    #print(b**2/(4*a*c))\n",
    "    return (x1,x2)\n",
    "    \n",
    "\n",
    "print(std_roots(0.001,1000,0.001)) #better for x2\n",
    "print(new_roots(0.001,1000,0.001)) #better for x1 \n",
    "\n",
    "#In this case b^2/4ac~2.5e11 >> 1 -> sqrt(delta)~b\n",
    "#For x1 in the numerator I have the two b-factors \n",
    "#with opposite sign so I expect a small value: better to get rid of them \n",
    "#at first(new_roots). \n",
    "#For x2 the b-factors sum up so I expect something big:\n",
    "#better to get it directly in the numerator (std_roots) than having small numerator \n",
    "#divided by smaller denominator.\n",
    "\n",
    "def best_roots(a,b,c):\n",
    "    delta=b**2-4*a*c\n",
    "    if delta < 0:\n",
    "        print('No solutions')            \n",
    "        return 0\n",
    "    x1=(4*a*c)/(2*a*(-b-delta**0.5))\n",
    "    x2=(-b-delta**0.5)/(2*a)\n",
    "    return (x1,x2)\n",
    "print(best_roots(0.001,1000,0.001))  "
   ]
  },
  {
   "cell_type": "markdown",
   "metadata": {},
   "source": [
    "6\\. Write a program that implements the function $f(x)=x(x−1)$\n",
    "\n",
    "(a) Calculate the derivative of the function at the point $x = 1$ using the derivative definition:\n",
    "\n",
    "$$\n",
    "\\frac{{\\rm d}f}{{\\rm d}x} = \\lim_{\\delta\\to0} \\frac{f(x+\\delta)-f(x)}{\\delta}\n",
    "$$\n",
    "\n",
    "with $\\delta = 10^{−2}$. Calculate the true value of the same derivative analytically and compare with the answer your program gives. The two will not agree perfectly. Why not?\n",
    "\n",
    "(b) Repeat the calculation for $\\delta = 10^{−4}, 10^{−6}, 10^{−8}, 10^{−10}, 10^{−12}$ and $10^{−14}$. How does the accuracy scales with $\\delta$?"
   ]
  },
  {
   "cell_type": "code",
   "execution_count": 25,
   "metadata": {},
   "outputs": [
    {
     "name": "stdout",
     "output_type": "stream",
     "text": [
      "[0.00010000000000000898, 9.999999988985486e-07, 9.999177332797871e-09, 3.9225287462585354e-11, 8.284037100736441e-10, 8.890058334132256e-07, -7.992778373491217e-06]\n"
     ]
    }
   ],
   "source": [
    "import sympy as diff\n",
    "def myfunc(x):\n",
    "    y=x*(x-1)\n",
    "    return y\n",
    "\n",
    "def deriv(x,delta):\n",
    "    d = (myfunc(x+delta)-myfunc(x))/delta\n",
    "    return d\n",
    "\n",
    "# true value: deriv(1)= 1.0 they don't agree for delta=1e-2 is >0\n",
    "expo=(1e-2,1e-4,1e-6,1e-8,1e-10,1e-12,1e-14)\n",
    "print([ (deriv(1,dd)-1)/100 for dd in expo])\n",
    "\n",
    "# results improve up to delta=1e-8, accuracy proportional to delta. \n",
    "# Then they get worse: the program can't deal with too large number "
   ]
  },
  {
   "cell_type": "markdown",
   "metadata": {},
   "source": [
    "7\\. Consider the integral of the semicircle of radius 1:\n",
    "$$\n",
    "I=\\int_{-1}^{1} \\sqrt(1-x^2) {\\rm d}x\n",
    "$$\n",
    "which it's known to be $I=\\frac{\\pi}{2}=1.57079632679...$.\n",
    "Alternatively we can use the Riemann definition of the integral:\n",
    "$$\n",
    "I=\\lim_{N\\to\\infty} \\sum_{k=1}^{N} h y_k \n",
    "$$\n",
    "\n",
    "with $h=2/N$ the width of each of the $N$ slices the domain is divided into and where\n",
    "$y_k$ is the value of the function at the $k-$th slice.\n",
    "\n",
    "(a) Write a programe to compute the integral with $N=100$. How does the result compares to the true value?\n",
    "\n",
    "(b) How much can $N$ be increased if the computation needs to be run in less than a second? What is the gain in running it for 1 minute? \n"
   ]
  },
  {
   "cell_type": "code",
   "execution_count": 39,
   "metadata": {},
   "outputs": [
    {
     "name": "stdout",
     "output_type": "stream",
     "text": [
      "1.5691342555492493\n",
      "difference from real val: 0.0016620712407506844\n",
      "time taken: 0.00047516822814941406\n"
     ]
    }
   ],
   "source": [
    "import time\n",
    "start = time.time()\n",
    "def integrand(x):\n",
    "    y = (1-x**2)**0.5\n",
    "    return y\n",
    "#a-answer\n",
    "N = 100\n",
    "h = 2.0/N\n",
    "i=-1.0\n",
    "domain=[]\n",
    "while i <= 1.:\n",
    "    domain.append(i)\n",
    "    i+=h\n",
    "#add 1.0 @ the end -> computation\n",
    "if domain[len(domain)-1]!= 1.0:\n",
    "    domain.append(1.0)       \n",
    "resu=sum([integrand(x) for x in domain])*h \n",
    "end = time.time()\n",
    "print(resu)\n",
    "real_val=1.57079632679\n",
    "print('difference from real val:',real_val-resu)\n",
    "print('time taken:', end-start)\n",
    "\n",
    "#b-answer"
   ]
  },
  {
   "cell_type": "code",
   "execution_count": null,
   "metadata": {},
   "outputs": [],
   "source": []
  }
 ],
 "metadata": {
  "kernelspec": {
   "display_name": "Python 3",
   "language": "python",
   "name": "python3"
  },
  "language_info": {
   "codemirror_mode": {
    "name": "ipython",
    "version": 3
   },
   "file_extension": ".py",
   "mimetype": "text/x-python",
   "name": "python",
   "nbconvert_exporter": "python",
   "pygments_lexer": "ipython3",
   "version": "3.8.3"
  }
 },
 "nbformat": 4,
 "nbformat_minor": 4
}
