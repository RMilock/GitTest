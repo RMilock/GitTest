{
 "cells": [
  {
   "cell_type": "markdown",
   "metadata": {},
   "source": [
    "1\\. Write the following as a list comprehension"
   ]
  },
  {
   "cell_type": "code",
   "execution_count": 3,
   "metadata": {},
   "outputs": [
    {
     "name": "stdout",
     "output_type": "stream",
     "text": [
      "[(0, 0), (0, 1), (0, 2), (0, 3), (1, 0), (1, 1), (1, 2), (1, 3), (2, 0), (2, 1), (2, 2), (2, 3)]\n",
      "[0, 4, 16]\n"
     ]
    }
   ],
   "source": [
    "# 1\n",
    "ans = []\n",
    "for i in range(3):\n",
    "    for j in range(4):\n",
    "        ans.append((i, j))\n",
    "print (ans)\n",
    "\n",
    "# 2\n",
    "ans = map(lambda x: x*x, filter(lambda x: x%2 == 0, range(5)))\n",
    "print (list(ans))\n",
    "\n"
   ]
  },
  {
   "cell_type": "code",
   "execution_count": 6,
   "metadata": {},
   "outputs": [
    {
     "name": "stdout",
     "output_type": "stream",
     "text": [
      "[(0, 0), (0, 1), (0, 2), (0, 3), (1, 0), (1, 1), (1, 2), (1, 3), (2, 0), (2, 1), (2, 2), (2, 3)]\n",
      "[(0, 0), (0, 1), (0, 2), (0, 3), (1, 0), (1, 1), (1, 2), (1, 3), (2, 0), (2, 1), (2, 2), (2, 3)]\n",
      "[0, 4, 16]\n"
     ]
    }
   ],
   "source": [
    "#ANSWER\n",
    "#2\n",
    "ans1 = [(i,j) for i in range(3) for j in range(4)]\n",
    "print(ans1)\n",
    "\n",
    "#2\n",
    "ans2 = [i**2 for i in range(5) if i%2==0]\n",
    "print(ans2)"
   ]
  },
  {
   "cell_type": "markdown",
   "metadata": {},
   "source": [
    "2\\. Convert the following function into a pure function with no global variables or side effects"
   ]
  },
  {
   "cell_type": "code",
   "execution_count": 13,
   "metadata": {},
   "outputs": [
    {
     "name": "stdout",
     "output_type": "stream",
     "text": [
      "[1, 2, 3, 0, 1, 2, 3, 4]\n",
      "[1, 2, 3, 0, 1, 2, 3, 4]\n",
      "So alist has been changed\n"
     ]
    }
   ],
   "source": [
    "#alist = global variable\n",
    "x = 5\n",
    "def f(alist):\n",
    "    for i in range(x):\n",
    "         alist.append(i)\n",
    "    return alist\n",
    "alist = [1,2,3]\n",
    "ans = f(alist)\n",
    "print (ans)\n",
    "print (alist) # alist has been changed!\n",
    "if ans==alist: print(\"So alist has been changed\")"
   ]
  },
  {
   "cell_type": "code",
   "execution_count": 15,
   "metadata": {},
   "outputs": [
    {
     "name": "stdout",
     "output_type": "stream",
     "text": [
      "[1, 2, 3]\n",
      "[1, 2, 3, 0, 1, 2, 3, 4]\n",
      "[1, 2, 3]\n",
      "\n",
      "alist hasn't been changed\n",
      "\n",
      "\n",
      "[-3, -2, -1, 0, 1, 2, 3, 4, 5]\n",
      "[-3, -2, -1]\n"
     ]
    }
   ],
   "source": [
    "#ANSWER: after call f, don't change the alist\n",
    "def f(alist,x):\n",
    "    temp=[i for i in alist]\n",
    "    for i in range(x):\n",
    "         temp.append(i)\n",
    "    return temp\n",
    "\n",
    "alist = [1,2,3]\n",
    "ans = f(alist,5)\n",
    "print(alist)\n",
    "print(ans)\n",
    "print(alist);\n",
    "\n",
    "if alist!=ans: print(\"\\nalist hasn't been changed\")\n",
    "\n",
    "#just to double check\n",
    "alist = [-3,-2,-1]\n",
    "ans = f(alist,6)\n",
    "print(\"\\n\");print(ans); print(alist)"
   ]
  },
  {
   "cell_type": "markdown",
   "metadata": {},
   "source": [
    "3\\. Write a `decorator` hello that makes every wrapped function print “Hello!”, i.e. something like:\n",
    "\n",
    "```python\n",
    "@hello\n",
    "def square(x):\n",
    "    return x*x\n",
    "```\n",
    "\n"
   ]
  },
  {
   "cell_type": "code",
   "execution_count": 5,
   "metadata": {},
   "outputs": [
    {
     "name": "stdout",
     "output_type": "stream",
     "text": [
      "Hello!\n",
      "9\n",
      "Hello!\n",
      "64\n"
     ]
    }
   ],
   "source": [
    "#ANSWER\n",
    "def hello(func):\n",
    "    def wrapper(x):\n",
    "        print(\"Hello!\")\n",
    "        return func(x)\n",
    "    return wrapper\n",
    "\n",
    "\n",
    "@hello\n",
    "def square(x):\n",
    "    return x*x\n",
    "\n",
    "print(square(3))\n",
    "print(square(8))"
   ]
  },
  {
   "cell_type": "markdown",
   "metadata": {},
   "source": [
    "4\\. Write the factorial function so that it a) does and b) does not use recursion."
   ]
  },
  {
   "cell_type": "code",
   "execution_count": 6,
   "metadata": {},
   "outputs": [
    {
     "name": "stdout",
     "output_type": "stream",
     "text": [
      "120\n",
      "This function only accepts integers\n",
      "None\n",
      "Invalid input\n",
      "None\n",
      "120\n",
      "This function only accepts integers\n",
      "None\n"
     ]
    }
   ],
   "source": [
    "#ANSWER\n",
    "#(a) with recursion\n",
    "def factorial(n):\n",
    "    try:\n",
    "        if n==(int(n)):\n",
    "            if n==0:\n",
    "                return 1\n",
    "            else:\n",
    "                return (n*factorial(n-1))\n",
    "        else:\n",
    "            print(\"This function only accepts integers\")      \n",
    "    except:\n",
    "        print(\"Invalid input\")\n",
    "    \n",
    "n1=5\n",
    "print(factorial(n1))\n",
    "n2=2.3\n",
    "print(factorial(n2))\n",
    "n3=\"abcd\"\n",
    "print(factorial(n3))\n",
    "\n",
    "\n",
    "#(b) without recursion\n",
    "def NR_factorial(n):\n",
    "    if n==(int(n)):\n",
    "        tot = 1\n",
    "        while(n>0):\n",
    "            tot*=n\n",
    "            n-=1\n",
    "        return tot\n",
    "    else:\n",
    "        print(\"This function only accepts integers\")\n",
    "        \n",
    "n1=5\n",
    "print(NR_factorial(n1))\n",
    "n2=2.3\n",
    "print(NR_factorial(n2))"
   ]
  },
  {
   "cell_type": "markdown",
   "metadata": {},
   "source": [
    "5\\. Use HOFs (zip in particular) to compute the weight of a circle, a disk and a sphere, assuming different radii and different densities:\n",
    "\n",
    "```python\n",
    "densities = {\"Al\":[0.5,1,2],\"Fe\":[3,4,5],\"Pb\": [15,20,30]}\n",
    "radii = [1,2,3]\n",
    "```\n",
    "\n",
    "where the entries of the dictionary's values are the linear, superficial and volumetric densities of the materials respectively.\n",
    "\n",
    "In particular define a list of three lambda functions using a comprehension that computes the circumference, the area and the volume for a given radius.\n"
   ]
  },
  {
   "cell_type": "code",
   "execution_count": 7,
   "metadata": {},
   "outputs": [
    {
     "name": "stdout",
     "output_type": "stream",
     "text": [
      "\n",
      "\n",
      ".......\n",
      "Al\n",
      ".......\n",
      "=====\n",
      "r = 1\n",
      "-----\n",
      "Dim | Mass\n",
      "----------\n",
      "1D  | 3.141592653589793\n",
      "2D  | 3.141592653589793\n",
      "3D  | 8.377580409572781\n",
      "=====\n",
      "r = 2\n",
      "-----\n",
      "Dim | Mass\n",
      "----------\n",
      "1D  | 6.283185307179586\n",
      "2D  | 12.566370614359172\n",
      "3D  | 67.02064327658225\n",
      "=====\n",
      "r = 3\n",
      "-----\n",
      "Dim | Mass\n",
      "----------\n",
      "1D  | 9.42477796076938\n",
      "2D  | 28.274333882308138\n",
      "3D  | 226.19467105846508\n",
      "\n",
      "\n",
      ".......\n",
      "Fe\n",
      ".......\n",
      "=====\n",
      "r = 1\n",
      "-----\n",
      "Dim | Mass\n",
      "----------\n",
      "1D  | 18.84955592153876\n",
      "2D  | 12.566370614359172\n",
      "3D  | 20.94395102393195\n",
      "=====\n",
      "r = 2\n",
      "-----\n",
      "Dim | Mass\n",
      "----------\n",
      "1D  | 37.69911184307752\n",
      "2D  | 50.26548245743669\n",
      "3D  | 167.5516081914556\n",
      "=====\n",
      "r = 3\n",
      "-----\n",
      "Dim | Mass\n",
      "----------\n",
      "1D  | 56.548667764616276\n",
      "2D  | 113.09733552923255\n",
      "3D  | 565.4866776461627\n",
      "\n",
      "\n",
      ".......\n",
      "Pb\n",
      ".......\n",
      "=====\n",
      "r = 1\n",
      "-----\n",
      "Dim | Mass\n",
      "----------\n",
      "1D  | 94.24777960769379\n",
      "2D  | 62.83185307179586\n",
      "3D  | 125.66370614359171\n",
      "=====\n",
      "r = 2\n",
      "-----\n",
      "Dim | Mass\n",
      "----------\n",
      "1D  | 188.49555921538757\n",
      "2D  | 251.32741228718345\n",
      "3D  | 1005.3096491487337\n",
      "=====\n",
      "r = 3\n",
      "-----\n",
      "Dim | Mass\n",
      "----------\n",
      "1D  | 282.7433388230814\n",
      "2D  | 565.4866776461628\n",
      "3D  | 3392.920065876976\n"
     ]
    }
   ],
   "source": [
    "#ANSWER\n",
    "from math import pi\n",
    "\n",
    "densities = {\"Al\":[0.5,1,2],\"Fe\":[3,4,5],\"Pb\": [15,20,30]}\n",
    "radii = [1,2,3]\n",
    "\n",
    "# cicle over the elements in the dictionary\n",
    "for material in densities:  # material = material label\n",
    "                            # densities[material] = [linear_d, superficial_d, volumetric_d]\n",
    "    print(\"\\n\")\n",
    "    print(\".......\")\n",
    "    print(material)\n",
    "    print(\".......\")\n",
    "    # list comprehension with the three lambda functions\n",
    "    function   = [lambda r: 2*pi*r, lambda r: pi*r**2, lambda r: 4/3*pi*r**3]\n",
    "    dimensions = [\"1D\", \"2D\", \"3D\"]\n",
    "    # cicle over the 3 different radii\n",
    "    for r in radii:\n",
    "        print(\"=====\")\n",
    "        print(\"r =\", r)\n",
    "        print(\"-----\")\n",
    "        print(\"Dim | Mass\")\n",
    "        print(\"----------\")\n",
    "        # cicle over densities and functions using a \"zip\"\n",
    "        for d, f, dim in zip(densities[material], function, dimensions):\n",
    "            print(dim, \" |\", d*f(r))"
   ]
  },
  {
   "cell_type": "markdown",
   "metadata": {},
   "source": [
    "6\\. Edit the class defintion to add an instance attribute of is_hungry = True to the Dog class. Then add a method called eat() which changes the value of is_hungry to False when called. Figure out the best way to feed each dog and then output “My dogs are hungry.” if all are hungry or “My dogs are not hungry.” if all are not hungry. The final output should look like this:\n",
    "\n",
    "`I have 3 dogs. \n",
    "Tom is 6. \n",
    "Fletcher is 7. \n",
    "Larry is 9. \n",
    "And they're all mammals, of course. \n",
    "My dogs are not hungry.\n",
    "`\n",
    "\n",
    "```python\n",
    "# Parent class\n",
    "class Dog:\n",
    "\n",
    "    # Class attribute\n",
    "    species = 'mammal'\n",
    "\n",
    "    # Initializer / Instance attributes\n",
    "    def __init__(self, name, age):\n",
    "        self.name = name\n",
    "        self.age = age\n",
    "\n",
    "    # instance method\n",
    "    def description(self):\n",
    "        return \"{} is {} years old\".format(self.name, self.age)\n",
    "\n",
    "    # instance method\n",
    "    def speak(self, sound):\n",
    "        return \"{} says {}\".format(self.name, sound)\n",
    "\n",
    "# Child class (inherits from Dog class)\n",
    "class RussellTerrier(Dog):\n",
    "    def run(self, speed):\n",
    "        return \"{} runs {}\".format(self.name, speed)\n",
    "\n",
    "# Child class (inherits from Dog class)\n",
    "class Bulldog(Dog):\n",
    "    def run(self, speed):\n",
    "        return \"{} runs {}\".format(self.name, speed)\n",
    "```"
   ]
  },
  {
   "cell_type": "code",
   "execution_count": 1,
   "metadata": {},
   "outputs": [
    {
     "name": "stdout",
     "output_type": "stream",
     "text": [
      "I have 3 dogs\n",
      "Tom is 5\n",
      "Fletcher is 6\n",
      "Larry is 7\n",
      "They are all mammal of course\n",
      "My dogs are hungry\n",
      "Tom is getting food\n",
      "Fletcher is getting food\n",
      "Larry is getting food\n",
      "My dogs are not hungry\n"
     ]
    }
   ],
   "source": [
    "#ANSWER\n",
    "#Parent class\n",
    "class Dog:\n",
    "\n",
    "    # Class attribute\n",
    "    species = 'mammal'\n",
    "\n",
    "    # Initializer / Instance attributes\n",
    "    def __init__(self, name, age):\n",
    "        self.name = name\n",
    "        self.age = age\n",
    "        self.is_hungry = True\n",
    "\n",
    "    # instance method\n",
    "    def description(self):\n",
    "        return \"{} is {} years old\".format(self.name, self.age)\n",
    "\n",
    "    # instance method\n",
    "    def speak(self, sound):\n",
    "        return \"{} says {}\".format(self.name, sound)\n",
    "    \n",
    "    # instance method\n",
    "    def eat(self):\n",
    "        self.is_hungry = False\n",
    "        return self.is_hungry\n",
    "\n",
    "# Child class (inherits from Dog class)\n",
    "class RussellTerrier(Dog):\n",
    "    def run(self, speed):\n",
    "        return \"{} runs {}\".format(self.name, speed)\n",
    "\n",
    "# Child class (inherits from Dog class)\n",
    "class Bulldog(Dog):\n",
    "    def run(self, speed):\n",
    "        return \"{} runs {}\".format(self.name, speed)\n",
    "\n",
    "    #if for all to implement right\n",
    "def checkHungry(DogList):\n",
    "    if all(dog.is_hungry==True for dog in DogList): \n",
    "        print(\"My dogs are hungry\")\n",
    "        return(True)\n",
    "    elif all(dog.is_hungry==False for dog in DogList):\n",
    "        print(\"My dogs are not hungry\")\n",
    "        return(False)\n",
    "    else:\n",
    "        print(\"Some dogs are hungry\")\n",
    "        return(True)    \n",
    "    \n",
    "    \n",
    "    \n",
    "Tom      = Dog(\"Tom\", 5)\n",
    "Fletcher = Dog(\"Fletcher\", 6)\n",
    "Larry    = Bulldog(\"Larry\", 7)\n",
    "my_dogs = [Tom, Fletcher, Larry]\n",
    "\n",
    "print(\"I have\", len(my_dogs), \"dogs\")\n",
    "for dog in my_dogs:\n",
    "    print(dog.name, \"is\", dog.age)\n",
    "print(\"They are all\", Tom.species, \"of course\")\n",
    "\n",
    "if checkHungry(my_dogs) == True:\n",
    "    for dog in my_dogs:    \n",
    "        if(dog.is_hungry == True): \n",
    "            print(dog.name, \"is getting food\")\n",
    "            dog.eat()\n",
    "        else:\n",
    "            print(dog.name, \"is not hungry\")\n",
    "    checkHungry(my_dogs)"
   ]
  },
  {
   "cell_type": "code",
   "execution_count": null,
   "metadata": {},
   "outputs": [],
   "source": []
  },
  {
   "cell_type": "code",
   "execution_count": null,
   "metadata": {},
   "outputs": [],
   "source": []
  }
 ],
 "metadata": {
  "kernelspec": {
   "display_name": "Python 3",
   "language": "python",
   "name": "python3"
  },
  "language_info": {
   "codemirror_mode": {
    "name": "ipython",
    "version": 3
   },
   "file_extension": ".py",
   "mimetype": "text/x-python",
   "name": "python",
   "nbconvert_exporter": "python",
   "pygments_lexer": "ipython3",
   "version": "3.8.3"
  }
 },
 "nbformat": 4,
 "nbformat_minor": 4
}
