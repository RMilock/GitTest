{
 "cells": [
  {
   "cell_type": "markdown",
   "metadata": {},
   "source": [
    "### Numpy basics"
   ]
  },
  {
   "cell_type": "markdown",
   "metadata": {},
   "source": [
    "1\\. Find the row, column and overall means for the following matrix:\n",
    "\n",
    "```python\n",
    "m = np.arange(12).reshape((3,4))\n",
    "```"
   ]
  },
  {
   "cell_type": "code",
   "execution_count": 1,
   "metadata": {},
   "outputs": [
    {
     "name": "stdout",
     "output_type": "stream",
     "text": [
      "[[ 0  1  2  3]\n",
      " [ 4  5  6  7]\n",
      " [ 8  9 10 11]]\n",
      "This is a row:\n",
      "[0 1 2 3]\n",
      "[4 5 6 7]\n",
      "[ 8  9 10 11]\n",
      "This is a column^T:\n",
      "[0 4 8]\n",
      "[1 5 9]\n",
      "[ 2  6 10]\n",
      "[ 3  7 11]\n",
      "mean along the columns: [4. 5. 6. 7.]\n",
      "mean along the rows: [1.5 5.5 9.5]\n",
      "averall mean: 5.5\n",
      "check: 5.5\n"
     ]
    }
   ],
   "source": [
    "import numpy as np\n",
    "m = np.arange(12).reshape((3,4))\n",
    "print(m); #without \"print\" it doesn't nothing\n",
    "\n",
    "print(\"This is a row:\")\n",
    "for i in range(3): print(m[i,:])\n",
    "print(\"This is a column^T:\")\n",
    "for i in range(4): print(m[:,i])\n",
    "\n",
    "print (\"mean along the columns:\", m.mean(axis=0))\n",
    "print (\"mean along the rows:\", m.mean(axis=1))\n",
    "print (\"averall mean:\", m.mean())\n",
    "print (\"check:\", np.mean(np.arange(12)))"
   ]
  },
  {
   "cell_type": "markdown",
   "metadata": {},
   "source": [
    "2\\. Find the outer product of the following two vecotrs\n",
    "\n",
    "```python\n",
    "u = np.array([1,3,5,7])\n",
    "v = np.array([2,4,6,8])\n",
    "```\n",
    "\n",
    "Do this in the following ways:\n",
    "\n",
    "   * Using the function outer in numpy\n",
    "   * Using a nested for loop or list comprehension\n",
    "   * Using numpy broadcasting operatoins\n"
   ]
  },
  {
   "cell_type": "code",
   "execution_count": 2,
   "metadata": {},
   "outputs": [
    {
     "name": "stdout",
     "output_type": "stream",
     "text": [
      "[[ 2  4  6  8]\n",
      " [ 6 12 18 24]\n",
      " [10 20 30 40]\n",
      " [14 28 42 56]] \n",
      "\n",
      "[[ 2  4  6  8]\n",
      " [ 6 12 18 24]\n",
      " [10 20 30 40]\n",
      " [14 28 42 56]] \n",
      "\n",
      "[[ 2  4  6  8]\n",
      " [ 6 12 18 24]\n",
      " [10 20 30 40]\n",
      " [14 28 42 56]]\n"
     ]
    }
   ],
   "source": [
    "u = np.array([1,3,5,7])\n",
    "v = np.array([2,4,6,8])\n",
    "\n",
    "# function np.outer:\n",
    "print (np.outer(u,v), \"\\n\")\n",
    "\n",
    "# loop:\n",
    "l = [i*v for i in u]\n",
    "print(np.array(l), \"\\n\")\n",
    "\n",
    "\n",
    "a = np.tile(u,(4,1))\n",
    "b = np.tile(v,(4,1))\n",
    "print(a.T*b)\n"
   ]
  },
  {
   "cell_type": "markdown",
   "metadata": {},
   "source": [
    "3\\. Create a 10 by 6 matrix of random uniform numbers. Set all rows with any entry less than 0.1 to be zero\n",
    "\n",
    "Hint: Use the following numpy functions - np.random.random, np.any as well as Boolean indexing and the axis argument."
   ]
  },
  {
   "cell_type": "code",
   "execution_count": 3,
   "metadata": {},
   "outputs": [
    {
     "name": "stdout",
     "output_type": "stream",
     "text": [
      "[[0.66793204 0.13651529 0.46361897 0.14168471 0.5981226  0.70222006]\n",
      " [0.76721763 0.49132074 0.78929392 0.27797497 0.26452408 0.98865891]\n",
      " [0.94675032 0.49939482 0.11825462 0.26164599 0.85357175 0.13811992]\n",
      " [0.11584706 0.70694606 0.35385197 0.9798129  0.53783239 0.03883232]\n",
      " [0.12829015 0.303137   0.68435681 0.99013089 0.98751277 0.17974677]\n",
      " [0.79049397 0.46007885 0.01299775 0.52403076 0.93932988 0.23957142]\n",
      " [0.14600663 0.06049693 0.15710395 0.1882617  0.09259195 0.52025122]\n",
      " [0.04235108 0.62592367 0.40695294 0.1952178  0.21948746 0.11719594]\n",
      " [0.08888755 0.44096245 0.64656871 0.58459652 0.07629101 0.76545121]\n",
      " [0.43880415 0.32238283 0.69079759 0.09877206 0.00390439 0.24952536]] \n",
      "\n",
      "[[0.66793204 0.13651529 0.46361897 0.14168471 0.5981226  0.70222006]\n",
      " [0.76721763 0.49132074 0.78929392 0.27797497 0.26452408 0.98865891]\n",
      " [0.94675032 0.49939482 0.11825462 0.26164599 0.85357175 0.13811992]\n",
      " [0.11584706 0.70694606 0.35385197 0.9798129  0.53783239 0.        ]\n",
      " [0.12829015 0.303137   0.68435681 0.99013089 0.98751277 0.17974677]\n",
      " [0.79049397 0.46007885 0.         0.52403076 0.93932988 0.23957142]\n",
      " [0.14600663 0.         0.15710395 0.1882617  0.         0.52025122]\n",
      " [0.         0.62592367 0.40695294 0.1952178  0.21948746 0.11719594]\n",
      " [0.         0.44096245 0.64656871 0.58459652 0.         0.76545121]\n",
      " [0.43880415 0.32238283 0.69079759 0.         0.         0.24952536]]\n"
     ]
    }
   ],
   "source": [
    "import numpy.random as npr\n",
    "\n",
    "m = npr.random(60).reshape(10,6)\n",
    "print (m, \"\\n\")\n",
    "\n",
    "#def a mask\n",
    "mask = (m < 0.1)\n",
    "m[mask]=0\n",
    "print(m)\n",
    "\n",
    "#check to do: print != values of masquered and unveiled matrix and the < 1 ones"
   ]
  },
  {
   "cell_type": "markdown",
   "metadata": {},
   "source": [
    "4\\. Use np.linspace to create an array of 100 numbers between 0 and 2π (inclusive).\n",
    "\n",
    "  * Extract every 10th element using slice notation\n",
    "  * Reverse the array using slice notation\n",
    "  * Extract elements where the absolute difference between the sine and cosine functions evaluated at that element is less than 0.1\n",
    "  * Make a plot showing the sin and cos functions and indicate where they are close"
   ]
  },
  {
   "cell_type": "code",
   "execution_count": 22,
   "metadata": {},
   "outputs": [
    {
     "data": {
      "image/png": "[encoded data removed]",
      "text/plain": [
       "<Figure size 432x288 with 1 Axes>"
      ]
     },
     "metadata": {
      "needs_background": "light"
     },
     "output_type": "display_data"
    }
   ],
   "source": [
    "a = np.linspace(0, 2*np.pi, 100)\n",
    "#print(a)\n",
    "a_tenth = (a[9::10])\n",
    "#print(a_tenth)\n",
    "a_reverse = (a[::-1])\n",
    "a_filter = a[abs(np.cos(a)-np.sin(a)) < 0.1]\n",
    "\n",
    "import matplotlib.pyplot as plt\n",
    "%matplotlib inline\n",
    "ysin = np.sin(a)\n",
    "ycos = np.cos(a)\n",
    "\n",
    "plt.plot(a,ysin)\n",
    "plt.plot(a,ycos)\n",
    "\n",
    "for close in a_filter :\n",
    "    plt.axvline(close,color='r')"
   ]
  },
  {
   "cell_type": "markdown",
   "metadata": {},
   "source": [
    "5\\. Create a matrix that shows the 10 by 10 multiplication table.\n",
    "\n",
    " * Find the trace of the matrix\n",
    " * Extract the anto-diagonal (this should be ```array([10, 18, 24, 28, 30, 30, 28, 24, 18, 10])```)\n",
    " * Extract the diagnoal offset by 1 upwards (this should be ```array([ 2,  6, 12, 20, 30, 42, 56, 72, 90])```)"
   ]
  },
  {
   "cell_type": "code",
   "execution_count": 3,
   "metadata": {},
   "outputs": [
    {
     "name": "stdout",
     "output_type": "stream",
     "text": [
      "[ 1  2  3  4  5  6  7  8  9 10]\n",
      "This is the trace: 385\n",
      "anti diagonal: [10 18 24 28 30 30 28 24 18 10]\n",
      "diagonal offset by 1 upwards: [ 2  6 12 20 30 42 56 72 90]\n"
     ]
    }
   ],
   "source": [
    "a = np.arange(1,11)\n",
    "print(a)\n",
    "b = np.tile(a,(10,1))\n",
    "m = b*b.T\n",
    "#print (m)\n",
    "print(\"This is the trace:\",m.trace())\n",
    "anti_diag = m[a-1,-a] #0,-1 // 1,-2 // ...\n",
    "diag_off = m[(0,1,2,3,4,5,6,7,8),(1,2,3,4,5,6,7,8,9)] #0,1 // 1,2 //...\n",
    "print (\"anti diagonal:\", anti_diag)\n",
    "print (\"diagonal offset by 1 upwards:\", diag_off)\n",
    "\n",
    "#Try select all off-diag terms"
   ]
  },
  {
   "cell_type": "markdown",
   "metadata": {},
   "source": [
    "6\\. Use broadcasting to create a grid of distances\n",
    "\n",
    "Route 66 crosses the following cities in the US: Chicago, Springfield, Saint-Louis, Tulsa, Oklahoma City, Amarillo, Santa Fe, Albuquerque, Flagstaff, Los Angeles\n",
    "The corresponding positions in miles are: 0, 198, 303, 736, 871, 1175, 1475, 1544, 1913, 2448\n",
    "\n",
    "  * Construct a 2D grid of distances among each city along Route 66\n",
    "  * Convert that in km (those savages...)"
   ]
  },
  {
   "cell_type": "code",
   "execution_count": 7,
   "metadata": {},
   "outputs": [
    {
     "name": "stdout",
     "output_type": "stream",
     "text": [
      "[[    0.         318.650112   487.631232  1184.477184  1401.738624\n",
      "   1890.9792    2373.7824    2484.827136  3078.675072  3939.674112]\n",
      " [ -318.650112     0.         168.98112    865.827072  1083.088512\n",
      "   1572.329088  2055.132288  2166.177024  2760.02496   3621.024   ]\n",
      " [ -487.631232  -168.98112      0.         696.845952   914.107392\n",
      "   1403.347968  1886.151168  1997.195904  2591.04384   3452.04288 ]\n",
      " [-1184.477184  -865.827072  -696.845952     0.         217.26144\n",
      "    706.502016  1189.305216  1300.349952  1894.197888  2755.196928]\n",
      " [-1401.738624 -1083.088512  -914.107392  -217.26144      0.\n",
      "    489.240576   972.043776  1083.088512  1676.936448  2537.935488]\n",
      " [-1890.9792   -1572.329088 -1403.347968  -706.502016  -489.240576\n",
      "      0.         482.8032     593.847936  1187.695872  2048.694912]\n",
      " [-2373.7824   -2055.132288 -1886.151168 -1189.305216  -972.043776\n",
      "   -482.8032       0.         111.044736   704.892672  1565.891712]\n",
      " [-2484.827136 -2166.177024 -1997.195904 -1300.349952 -1083.088512\n",
      "   -593.847936  -111.044736     0.         593.847936  1454.846976]\n",
      " [-3078.675072 -2760.02496  -2591.04384  -1894.197888 -1676.936448\n",
      "  -1187.695872  -704.892672  -593.847936     0.         860.99904 ]\n",
      " [-3939.674112 -3621.024    -3452.04288  -2755.196928 -2537.935488\n",
      "  -2048.694912 -1565.891712 -1454.846976  -860.99904      0.      ]]\n"
     ]
    },
    {
     "name": "stdin",
     "output_type": "stream",
     "text": [
      "Please enter a string:\n",
      " SP\n"
     ]
    },
    {
     "name": "stdout",
     "output_type": "stream",
     "text": [
      "You entered SP\n",
      "The distance is: 198\n",
      "The distance is: 0\n",
      "The distance is: 105\n",
      "\n",
      "\n",
      "[[' ' 'Chi' 'Spr' 'Stl' 'Tul' 'Okl' 'Ama' 'Sfe' 'Alb' 'Flg' 'LA']\n",
      " ['Chi' '0' '319' '488' '1185' '1402' '1892' '2375' '2486' '3080' '3941']\n",
      " ['Spr' '319' '0' '169' '866' '1084' '1573' '2056' '2167' '2761' '3622']\n",
      " ['Stl' '488' '169' '0' '697' '914' '1404' '1887' '1998' '2592' '3453']\n",
      " ['Tul' '1185' '866' '697' '0' '217' '707' '1190' '1301' '1895' '2756']\n",
      " ['Okl' '1402' '1084' '914' '217' '0' '489' '972' '1084' '1678' '2539']\n",
      " ['Ama' '1892' '1573' '1404' '707' '489' '0' '483' '594' '1188' '2050']\n",
      " ['Sfe' '2375' '2056' '1887' '1190' '972' '483' '0' '111' '705' '1567']\n",
      " ['Alb' '2486' '2167' '1998' '1301' '1084' '594' '111' '0' '594' '1455']\n",
      " ['Flg' '3080' '2761' '2592' '1895' '1678' '1188' '705' '594' '0' '861']\n",
      " ['LA' '3941' '3622' '3453' '2756' '2539' '2050' '1567' '1455' '861' '0']]\n"
     ]
    }
   ],
   "source": [
    "dist = np.array([0, 198, 303, 736, 871, 1175, 1475, 1544, 1913, 2448])\n",
    "aa = np.tile(dist,(len(dist),1))\n",
    "bb = aa.T\n",
    "final = aa-bb\n",
    "#print(final)\n",
    "\n",
    "final_km = final * 1.609344 # km\n",
    "print (final_km)\n",
    "\n",
    "\n",
    "#Optional:\n",
    "request = input(\"Please enter a string:\\n\")\n",
    "print(f'You entered {request}')\n",
    "thisdict ={\n",
    "  \"CG\": 0,\n",
    "  \"SP\": 198,\n",
    "  \"SS\": 303\n",
    "}\n",
    "if (request==city for city in thisdict):\n",
    "    for city in thisdict:\n",
    "        print(\"The distance is:\", np.abs(thisdict[city]-thisdict[request]))\n",
    "\n",
    "#method 2\n",
    "print(\"\\n\")\n",
    "cities=np.array([\" \",\"Chi\",\"Spr\",\"Stl\",\"Tul\",\"Okl\",\"Ama\",\"Sfe\",\"Alb\",\"Flg\",\"LA\"]).reshape(1,11)\n",
    "position=np.array([0, 198, 303, 736, 871, 1175, 1475, 1544, 1913, 2448]).reshape(1,10)\n",
    "distance=np.abs(position.reshape(10,1)-position)\n",
    "\n",
    "distance_civil=np.around(distance*1.61,0).astype(int)\n",
    "\n",
    "\"\"\"\n",
    "Decimals will make the grid poorly visualizable. So convert to ints\n",
    "\"\"\"\n",
    "\n",
    "dist_table=np.concatenate((cities,np.concatenate((cities.T[1:11,:],distance_civil), axis=1)),axis=0)\n",
    "#dist_table2=np.concatenate((cities,np.concatenate((cities.T[1:11,:],distance), axis=1)),axis=0)\n",
    "\n",
    "print(dist_table)"
   ]
  },
  {
   "cell_type": "markdown",
   "metadata": {},
   "source": [
    "7\\. Prime numbers sieve: compute the prime numbers in the 0-N (N=99 to start with) range with a sieve (mask).\n",
    "  * Constract a shape (100,) boolean array, the mask\n",
    "  * Identify the multiples of each number starting from 2 and set accordingly the corresponding mask element\n",
    "  * Apply the mask to obtain an array of ordered prime numbers\n",
    "  * Check the performances (timeit); how does it scale with N?\n",
    "  * Implement the optimization suggested in the [sieve of Eratosthenes](https://en.wikipedia.org/wiki/Sieve_of_Eratosthenes)"
   ]
  },
  {
   "cell_type": "code",
   "execution_count": 38,
   "metadata": {},
   "outputs": [
    {
     "name": "stdout",
     "output_type": "stream",
     "text": [
      "Prime numbers: [0 1 2 3]\n"
     ]
    },
    {
     "data": {
      "image/png": "[encoded data removed]",
      "text/plain": [
       "<Figure size 432x288 with 1 Axes>"
      ]
     },
     "metadata": {
      "needs_background": "light"
     },
     "output_type": "display_data"
    },
    {
     "name": "stdout",
     "output_type": "stream",
     "text": [
      "******* \n",
      "\n",
      "ERATOSTHENES' SIEVE\n",
      "[ 0  1  2  3  5  7 11 13 17 19 23 29 31 37 41 43 47 53 59 61 67 71 73 79\n",
      " 83 89 97]\n"
     ]
    },
    {
     "data": {
      "image/png": "[encoded data removed]",
      "text/plain": [
       "<Figure size 432x288 with 1 Axes>"
      ]
     },
     "metadata": {
      "needs_background": "light"
     },
     "output_type": "display_data"
    }
   ],
   "source": [
    "import time\n",
    "import matplotlib.pyplot as plt\n",
    "\n",
    "def prime(N):\n",
    "    mask=np.array([True for i in range(N)])\n",
    "    N_list=np.arange(N)\n",
    "    for i in range(2,N):\n",
    "        for j in range(2,N):\n",
    "            #if numbers[j]%numbers[j]==0 -> it is not prime\n",
    "            if N_list[i]!=N_list[j] and N_list[i]%N_list[j]==0: \n",
    "                mask[i]=False             \n",
    "    return N_list[mask]\n",
    "\n",
    "print(\"Prime numbers:\",prime(5))\n",
    "\n",
    "#time evaluation\n",
    "timeres=np.zeros((10,2))\n",
    "j=0\n",
    "for i in range(10,110,10):\n",
    "    start_time = time.process_time()\n",
    "    prime(10*i)\n",
    "    timeres[j,0]=i*10\n",
    "    timeres[j,1]=time.process_time() - start_time\n",
    "    j +=1\n",
    " \n",
    "plt.plot(timeres[:,0], timeres[:,1], 'b.')\n",
    "plt.xlabel('Numbers')\n",
    "plt.ylabel('Time (s)')\n",
    "plt.title('Prime function')\n",
    "plt.show()\n",
    "\n",
    "print(\"*******\", \"\\n\")\n",
    "print(\"ERATOSTHENES' SIEVE\")\n",
    "def opt_prime(N):\n",
    "    mask=np.array([True for i in range(N)])\n",
    "    N_list=np.arange(N)\n",
    "    for i in range(2,int(N**0.5)):\n",
    "        if mask[i] == True: \n",
    "            for j in range(i**2, N, i):\n",
    "                mask[j]=False      \n",
    "    prime=N_list[mask]\n",
    "    return prime                \n",
    "\n",
    "print(opt_prime(100))\n",
    "\n",
    "#time evaluation\n",
    "timeres=np.zeros((1000,2))\n",
    "j=0\n",
    "for i in range(10,11000,100):\n",
    "    start_time = time.process_time()\n",
    "    opt_prime(10*i)\n",
    "    timeres[j,0]=i*10\n",
    "    timeres[j,1]=time.process_time() - start_time\n",
    "    j +=1\n",
    "    \n",
    "plt.plot(timeres[:,0], timeres[:,1], 'r.')\n",
    "plt.xlabel('Numbers')\n",
    "plt.ylabel('Time (s)')\n",
    "plt.title('Sieve of Eratosthenes')\n",
    "plt.show()"
   ]
  },
  {
   "cell_type": "markdown",
   "metadata": {},
   "source": [
    "8\\. Diffusion using random walk\n",
    "\n",
    "Consider a simple random walk process: at each step in time, a walker jumps right or left (+1 or -1) with equal probability. The goal is to find the typical distance from the origin of a random walker after a given amount of time. \n",
    "To do that, let's simulate many walkers and create a 2D array with each walker as a row and the actual time evolution as columns\n",
    "\n",
    "  * Take 1000 walkers and let them walk for 200 steps\n",
    "  * Use randint to create a 2D array of size walkers x steps with values -1 or 1\n",
    "  * Build the actual walking distances for each walker (i.e. another 2D array \"summing on each raw\")\n",
    "  * Take the square of that 2D array (elementwise)\n",
    "  * Compute the mean of the squared distances at each step (i.e. the mean along the columns)\n",
    "  * Plot the average distances (sqrt(distance\\*\\*2)) as a function of time (step)\n",
    "  \n",
    "Did you get what you expected?"
   ]
  },
  {
   "cell_type": "code",
   "execution_count": 2,
   "metadata": {},
   "outputs": [
    {
     "data": {
      "image/png": "[encoded data removed]",
      "text/plain": [
       "<Figure size 432x288 with 1 Axes>"
      ]
     },
     "metadata": {
      "needs_background": "light"
     },
     "output_type": "display_data"
    }
   ],
   "source": [
    "import numpy.random as npr\n",
    "import numpy as np; import matplotlib.pyplot as plt\n",
    "#fixed step compute the mean of the squared dist\n",
    "def average_dist(st) :\n",
    "    walkers=1000\n",
    "    #2d array:\n",
    "    mat = npr.randint(-1,1,(walkers,st))\n",
    "    mat[(mat==0)]=1 #choose 0->1\n",
    "    #print(mat) #but try first with steps=np.arange(3)\n",
    "    summ = mat.sum(axis=1) #sum all the steps for each walk\n",
    "    #print(summ)\n",
    "    mean=np.mean(summ*summ) #mean of the sq dist\n",
    "    av_dist = np.sqrt(mean)\n",
    "    return av_dist\n",
    "steps = np.arange(200)\n",
    "averages = [average_dist(step) for step in steps]\n",
    "\n",
    "plt.plot(steps,averages)\n",
    "plt.xlabel('Step')\n",
    "plt.ylabel('Avg_dist')\n",
    "plt.title('Random Walk')\n",
    "plt.show()\n",
    "\n",
    "#todo: fit it with sqrt(steps)"
   ]
  },
  {
   "cell_type": "markdown",
   "metadata": {},
   "source": [
    "9\\. Analyze a data file \n",
    "  * Download the population of hares(lepre), lynxes and carrots at the beginning of the last century.\n",
    "    ```python\n",
    "    ! wget https://www.dropbox.com/s/3vigxoqayo389uc/populations.txt\n",
    "    ```\n",
    "\n",
    "  * Check the content by looking within the file\n",
    "  * Load the data (use an appropriate numpy method) into a 2D array\n",
    "  * Create arrays out of the columns, the arrays being (in order): *year*, *hares*, *lynxes*, *carrots* \n",
    "  * Plot the 3 populations over the years\n",
    "  * Compute the main statistical properties of the dataset (mean, std, correlations, etc.)\n",
    "  * Which species has the highest population each year?\n",
    "\n",
    "Do you feel there is some evident correlation here? [Studies](https://www.enr.gov.nt.ca/en/services/lynx/lynx-snowshoe-hare-cycle) tend to believe so."
   ]
  },
  {
   "cell_type": "code",
   "execution_count": 23,
   "metadata": {},
   "outputs": [
    {
     "name": "stdout",
     "output_type": "stream",
     "text": [
      "hares mean: 34080.95, std: 20897.91, percantage std/mean: 61.32\n",
      "lynxes mean: 20166.67, std: 16254.59, percentage std/mean: 80.60\n",
      "carrots mean: 42400.00, std: 3322.51, percantage std/mean: 07.84\n",
      "correlation between hares and lynxes population:\n",
      " [[1.         0.07189206]\n",
      " [0.07189206 1.        ]]\n",
      "correlation between hares and carrots population:\n",
      " [[ 1.         -0.01660378]\n",
      " [-0.01660378  1.        ]]\n",
      "correlation between hares and lynxes population:\n",
      " [[ 1.         -0.68057717]\n",
      " [-0.68057717  1.        ]]\n"
     ]
    },
    {
     "data": {
      "image/png": "[encoded data removed]",
      "text/plain": [
       "<Figure size 432x288 with 1 Axes>"
      ]
     },
     "metadata": {
      "needs_background": "light"
     },
     "output_type": "display_data"
    }
   ],
   "source": [
    "import numpy as np\n",
    "data = np.loadtxt(\"populations.txt\")\n",
    "year=data[:,0]\n",
    "hares = data[:,1]\n",
    "lynxes = data[:,2]\n",
    "carrots = data[:,3]\n",
    "\n",
    "plt.plot(year,hares,label='hares')\n",
    "plt.plot(year,lynxes,label='lynxes')\n",
    "plt.plot(year,carrots,label='carrots')\n",
    "plt.legend()\n",
    "\n",
    "print(\"hares mean: %06.2f, std: %06.2f, percantage std/mean:% 06.2f\"% (hares.mean(), hares.std(), hares.std()/hares.mean()*100) )\n",
    "print(\"lynxes mean: %06.2f, std: %06.2f, percentage std/mean:% 06.2f\"% (lynxes.mean(), lynxes.std(), lynxes.std()/lynxes.mean()*100) )\n",
    "print(\"carrots mean: %06.2f, std: %06.2f, percantage std/mean:% 06.2f\"% (carrots.mean(), carrots.std(), carrots.std()/carrots.mean()*100) )\n",
    "print(\"correlation between hares and lynxes population:\\n\", np.corrcoef(hares,lynxes))\n",
    "print(\"correlation between hares and carrots population:\\n\", np.corrcoef(hares,carrots))\n",
    "print(\"correlation between hares and lynxes population:\\n\", np.corrcoef(carrots,lynxes))"
   ]
  },
  {
   "cell_type": "code",
   "execution_count": null,
   "metadata": {},
   "outputs": [],
   "source": []
  }
 ],
 "metadata": {
  "kernelspec": {
   "display_name": "Python 3",
   "language": "python",
   "name": "python3"
  },
  "language_info": {
   "codemirror_mode": {
    "name": "ipython",
    "version": 3
   },
   "file_extension": ".py",
   "mimetype": "text/x-python",
   "name": "python",
   "nbconvert_exporter": "python",
   "pygments_lexer": "ipython3",
   "version": "3.8.3"
  }
 },
 "nbformat": 4,
 "nbformat_minor": 4
}
